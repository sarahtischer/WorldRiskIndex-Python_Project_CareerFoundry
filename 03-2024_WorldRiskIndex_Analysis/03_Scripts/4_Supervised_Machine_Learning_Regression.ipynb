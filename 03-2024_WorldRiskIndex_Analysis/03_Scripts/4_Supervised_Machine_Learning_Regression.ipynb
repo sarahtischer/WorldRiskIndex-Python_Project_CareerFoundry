{
 "cells": [
  {
   "cell_type": "markdown",
   "id": "cfaba15b",
   "metadata": {},
   "source": [
    "# Supervised Machine Learning: Regression\n",
    "\n",
    "#### Table of Contents\n",
    "\n",
    "    1. Importing libraries\n",
    "    2. Importing data\n",
    "    3. Data cleaning\n",
    "        Missing values\n",
    "        Duplicates\n",
    "        Extreme values\n",
    "    4. Data preparation\n",
    "        Data visualization\n",
    "        Hypothesis\n",
    "        NumPy arrays\n",
    "    5. Regression analysis\n",
    "        Predicting the test set\n",
    "        Comparison against training set\n",
    "        Performance improvement after removing outliers"
   ]
  },
  {
   "cell_type": "markdown",
   "id": "b3162ac6",
   "metadata": {},
   "source": [
    "# 1. Importing libraries"
   ]
  },
  {
   "cell_type": "code",
   "execution_count": 1,
   "id": "28d769fb",
   "metadata": {},
   "outputs": [],
   "source": [
    "import pandas as pd\n",
    "import numpy as np\n",
    "import seaborn as sns\n",
    "import matplotlib\n",
    "import matplotlib.pyplot as plt\n",
    "import os\n",
    "import sklearn\n",
    "from sklearn.model_selection import train_test_split \n",
    "from sklearn.linear_model import LinearRegression\n",
    "from sklearn.metrics import mean_squared_error, r2_score"
   ]
  },
  {
   "cell_type": "markdown",
   "id": "cfae5193",
   "metadata": {},
   "source": [
    "# 2. Importing data"
   ]
  },
  {
   "cell_type": "code",
   "execution_count": 2,
   "id": "3ee7a721",
   "metadata": {},
   "outputs": [],
   "source": [
    "# Turn project folder path into a string\n",
    "path = r'/Users/sarahtischer/Desktop/CareerFoundry/Data Immersion/Achievement 6/03-2024_WorldRiskIndex_Analysis'"
   ]
  },
  {
   "cell_type": "code",
   "execution_count": 3,
   "id": "3e1d9b7e",
   "metadata": {},
   "outputs": [],
   "source": [
    "# Import \"WRI_iso_updated.csv\"\n",
    "df = pd.read_csv(os.path.join(path, '02_Data', 'Prepared_data', 'WRI_iso_updated.csv'), index_col = False)"
   ]
  },
  {
   "cell_type": "code",
   "execution_count": 4,
   "id": "02ceb457",
   "metadata": {},
   "outputs": [
    {
     "data": {
      "text/plain": [
       "(1917, 13)"
      ]
     },
     "execution_count": 4,
     "metadata": {},
     "output_type": "execute_result"
    }
   ],
   "source": [
    "# Confirm the shape of the dataset\n",
    "df.shape"
   ]
  },
  {
   "cell_type": "markdown",
   "id": "352fc089",
   "metadata": {},
   "source": [
    "# 3. Data cleaning"
   ]
  },
  {
   "cell_type": "code",
   "execution_count": 5,
   "id": "089477ff",
   "metadata": {},
   "outputs": [
    {
     "data": {
      "text/plain": [
       "Index(['Country', 'ISO_a3', 'Year', 'WRI', 'Exposure', 'Vulnerability',\n",
       "       'Susceptibility', 'Lack of Coping Capacities',\n",
       "       'Lack of Adaptive Capacities', 'WRI Category', 'Exposure Category',\n",
       "       'Vulnerability Category', 'Susceptibility Category'],\n",
       "      dtype='object')"
      ]
     },
     "execution_count": 5,
     "metadata": {},
     "output_type": "execute_result"
    }
   ],
   "source": [
    "# Check the dataframe's columns\n",
    "df.columns"
   ]
  },
  {
   "cell_type": "code",
   "execution_count": 6,
   "id": "11de11c0",
   "metadata": {},
   "outputs": [
    {
     "data": {
      "text/html": [
       "<div>\n",
       "<style scoped>\n",
       "    .dataframe tbody tr th:only-of-type {\n",
       "        vertical-align: middle;\n",
       "    }\n",
       "\n",
       "    .dataframe tbody tr th {\n",
       "        vertical-align: top;\n",
       "    }\n",
       "\n",
       "    .dataframe thead th {\n",
       "        text-align: right;\n",
       "    }\n",
       "</style>\n",
       "<table border=\"1\" class=\"dataframe\">\n",
       "  <thead>\n",
       "    <tr style=\"text-align: right;\">\n",
       "      <th></th>\n",
       "      <th>Country</th>\n",
       "      <th>ISO_a3</th>\n",
       "      <th>Year</th>\n",
       "      <th>WRI</th>\n",
       "      <th>Exposure</th>\n",
       "      <th>Vulnerability</th>\n",
       "      <th>Susceptibility</th>\n",
       "      <th>Lack of Coping Capacities</th>\n",
       "      <th>Lack of Adaptive Capacities</th>\n",
       "      <th>WRI Category</th>\n",
       "      <th>Exposure Category</th>\n",
       "      <th>Vulnerability Category</th>\n",
       "      <th>Susceptibility Category</th>\n",
       "    </tr>\n",
       "  </thead>\n",
       "  <tbody>\n",
       "    <tr>\n",
       "      <th>0</th>\n",
       "      <td>Vanuatu</td>\n",
       "      <td>VUT</td>\n",
       "      <td>2011</td>\n",
       "      <td>32.00</td>\n",
       "      <td>56.33</td>\n",
       "      <td>56.81</td>\n",
       "      <td>37.14</td>\n",
       "      <td>79.34</td>\n",
       "      <td>53.96</td>\n",
       "      <td>Very High</td>\n",
       "      <td>Very High</td>\n",
       "      <td>High</td>\n",
       "      <td>High</td>\n",
       "    </tr>\n",
       "    <tr>\n",
       "      <th>1</th>\n",
       "      <td>Tonga</td>\n",
       "      <td>TON</td>\n",
       "      <td>2011</td>\n",
       "      <td>29.08</td>\n",
       "      <td>56.04</td>\n",
       "      <td>51.90</td>\n",
       "      <td>28.94</td>\n",
       "      <td>81.80</td>\n",
       "      <td>44.97</td>\n",
       "      <td>Very High</td>\n",
       "      <td>Very High</td>\n",
       "      <td>Medium</td>\n",
       "      <td>Medium</td>\n",
       "    </tr>\n",
       "    <tr>\n",
       "      <th>2</th>\n",
       "      <td>Philippines</td>\n",
       "      <td>PHL</td>\n",
       "      <td>2011</td>\n",
       "      <td>24.32</td>\n",
       "      <td>45.09</td>\n",
       "      <td>53.93</td>\n",
       "      <td>34.99</td>\n",
       "      <td>82.78</td>\n",
       "      <td>44.01</td>\n",
       "      <td>Very High</td>\n",
       "      <td>Very High</td>\n",
       "      <td>High</td>\n",
       "      <td>High</td>\n",
       "    </tr>\n",
       "    <tr>\n",
       "      <th>3</th>\n",
       "      <td>Solomon Islands</td>\n",
       "      <td>SLB</td>\n",
       "      <td>2011</td>\n",
       "      <td>23.51</td>\n",
       "      <td>36.40</td>\n",
       "      <td>64.60</td>\n",
       "      <td>44.11</td>\n",
       "      <td>85.95</td>\n",
       "      <td>63.74</td>\n",
       "      <td>Very High</td>\n",
       "      <td>Very High</td>\n",
       "      <td>Very High</td>\n",
       "      <td>High</td>\n",
       "    </tr>\n",
       "    <tr>\n",
       "      <th>4</th>\n",
       "      <td>Guatemala</td>\n",
       "      <td>GTM</td>\n",
       "      <td>2011</td>\n",
       "      <td>20.88</td>\n",
       "      <td>38.42</td>\n",
       "      <td>54.35</td>\n",
       "      <td>35.36</td>\n",
       "      <td>77.83</td>\n",
       "      <td>49.87</td>\n",
       "      <td>Very High</td>\n",
       "      <td>Very High</td>\n",
       "      <td>High</td>\n",
       "      <td>High</td>\n",
       "    </tr>\n",
       "  </tbody>\n",
       "</table>\n",
       "</div>"
      ],
      "text/plain": [
       "           Country ISO_a3  Year    WRI  Exposure  Vulnerability  \\\n",
       "0          Vanuatu    VUT  2011  32.00     56.33          56.81   \n",
       "1            Tonga    TON  2011  29.08     56.04          51.90   \n",
       "2      Philippines    PHL  2011  24.32     45.09          53.93   \n",
       "3  Solomon Islands    SLB  2011  23.51     36.40          64.60   \n",
       "4        Guatemala    GTM  2011  20.88     38.42          54.35   \n",
       "\n",
       "   Susceptibility  Lack of Coping Capacities  Lack of Adaptive Capacities  \\\n",
       "0           37.14                      79.34                        53.96   \n",
       "1           28.94                      81.80                        44.97   \n",
       "2           34.99                      82.78                        44.01   \n",
       "3           44.11                      85.95                        63.74   \n",
       "4           35.36                      77.83                        49.87   \n",
       "\n",
       "  WRI Category Exposure Category Vulnerability Category  \\\n",
       "0    Very High         Very High                   High   \n",
       "1    Very High         Very High                 Medium   \n",
       "2    Very High         Very High                   High   \n",
       "3    Very High         Very High              Very High   \n",
       "4    Very High         Very High                   High   \n",
       "\n",
       "  Susceptibility Category  \n",
       "0                    High  \n",
       "1                  Medium  \n",
       "2                    High  \n",
       "3                    High  \n",
       "4                    High  "
      ]
     },
     "execution_count": 6,
     "metadata": {},
     "output_type": "execute_result"
    }
   ],
   "source": [
    "# Check a sample\n",
    "df.head()"
   ]
  },
  {
   "cell_type": "markdown",
   "id": "6cea2c45",
   "metadata": {},
   "source": [
    "### Missing values"
   ]
  },
  {
   "cell_type": "code",
   "execution_count": 7,
   "id": "3800f82b",
   "metadata": {},
   "outputs": [
    {
     "data": {
      "text/plain": [
       "Country                        0\n",
       "ISO_a3                         0\n",
       "Year                           0\n",
       "WRI                            0\n",
       "Exposure                       0\n",
       "Vulnerability                  0\n",
       "Susceptibility                 0\n",
       "Lack of Coping Capacities      0\n",
       "Lack of Adaptive Capacities    0\n",
       "WRI Category                   0\n",
       "Exposure Category              0\n",
       "Vulnerability Category         0\n",
       "Susceptibility Category        0\n",
       "dtype: int64"
      ]
     },
     "execution_count": 7,
     "metadata": {},
     "output_type": "execute_result"
    }
   ],
   "source": [
    "# Check for missing values\n",
    "df.isnull().sum()"
   ]
  },
  {
   "cell_type": "markdown",
   "id": "95d90caf",
   "metadata": {},
   "source": [
    "#### <mark>Note:</mark>\n",
    "\n",
    "No missing values found."
   ]
  },
  {
   "cell_type": "markdown",
   "id": "52c5e0af",
   "metadata": {},
   "source": [
    "### Duplicates"
   ]
  },
  {
   "cell_type": "code",
   "execution_count": 8,
   "id": "8759e2b0",
   "metadata": {
    "scrolled": false
   },
   "outputs": [
    {
     "data": {
      "text/html": [
       "<div>\n",
       "<style scoped>\n",
       "    .dataframe tbody tr th:only-of-type {\n",
       "        vertical-align: middle;\n",
       "    }\n",
       "\n",
       "    .dataframe tbody tr th {\n",
       "        vertical-align: top;\n",
       "    }\n",
       "\n",
       "    .dataframe thead th {\n",
       "        text-align: right;\n",
       "    }\n",
       "</style>\n",
       "<table border=\"1\" class=\"dataframe\">\n",
       "  <thead>\n",
       "    <tr style=\"text-align: right;\">\n",
       "      <th></th>\n",
       "      <th>Country</th>\n",
       "      <th>ISO_a3</th>\n",
       "      <th>Year</th>\n",
       "      <th>WRI</th>\n",
       "      <th>Exposure</th>\n",
       "      <th>Vulnerability</th>\n",
       "      <th>Susceptibility</th>\n",
       "      <th>Lack of Coping Capacities</th>\n",
       "      <th>Lack of Adaptive Capacities</th>\n",
       "      <th>WRI Category</th>\n",
       "      <th>Exposure Category</th>\n",
       "      <th>Vulnerability Category</th>\n",
       "      <th>Susceptibility Category</th>\n",
       "    </tr>\n",
       "  </thead>\n",
       "  <tbody>\n",
       "  </tbody>\n",
       "</table>\n",
       "</div>"
      ],
      "text/plain": [
       "Empty DataFrame\n",
       "Columns: [Country, ISO_a3, Year, WRI, Exposure, Vulnerability, Susceptibility, Lack of Coping Capacities, Lack of Adaptive Capacities, WRI Category, Exposure Category, Vulnerability Category, Susceptibility Category]\n",
       "Index: []"
      ]
     },
     "execution_count": 8,
     "metadata": {},
     "output_type": "execute_result"
    }
   ],
   "source": [
    "# Find full duplicates\n",
    "df_dups = df[df.duplicated()]\n",
    "\n",
    "df_dups"
   ]
  },
  {
   "cell_type": "markdown",
   "id": "1930a083",
   "metadata": {},
   "source": [
    "#### <mark>Note:</mark>\n",
    "\n",
    "No duplicates found."
   ]
  },
  {
   "cell_type": "markdown",
   "id": "adb899e7",
   "metadata": {},
   "source": [
    "### Extreme values"
   ]
  },
  {
   "cell_type": "code",
   "execution_count": 9,
   "id": "67de2fdd",
   "metadata": {
    "scrolled": true
   },
   "outputs": [
    {
     "name": "stderr",
     "output_type": "stream",
     "text": [
      "/Users/sarahtischer/anaconda3/lib/python3.11/site-packages/seaborn/_oldcore.py:1119: FutureWarning: use_inf_as_na option is deprecated and will be removed in a future version. Convert inf values to NaN before operating instead.\n",
      "  with pd.option_context('mode.use_inf_as_na', True):\n"
     ]
    },
    {
     "data": {
      "image/png": "[encoded data removed]",
      "text/plain": [
       "<Figure size 640x480 with 1 Axes>"
      ]
     },
     "metadata": {},
     "output_type": "display_data"
    }
   ],
   "source": [
    "# Create a histplot to visualize extreme WRI values\n",
    "hist_wri = sns.histplot(\n",
    "    df['WRI'], kde=True,\n",
    "    stat='density', kde_kws=dict(cut=3),\n",
    "    bins=15,\n",
    "    edgecolor='none',\n",
    "    color='#2492b6',  \n",
    "    line_kws={'color': '#005b92'}\n",
    ")"
   ]
  },
  {
   "cell_type": "code",
   "execution_count": 10,
   "id": "92755e69",
   "metadata": {},
   "outputs": [],
   "source": [
    "# Export histrogram\n",
    "hist_wri.figure.savefig(os.path.join(path, '04_Analysis','Visualizations', '4_hist_wri.png'), bbox_inches='tight')"
   ]
  },
  {
   "cell_type": "code",
   "execution_count": 11,
   "id": "856810ea",
   "metadata": {},
   "outputs": [
    {
     "data": {
      "text/plain": [
       "count    1917.000000\n",
       "mean        7.546390\n",
       "std         5.551136\n",
       "min         0.020000\n",
       "25%         3.740000\n",
       "50%         6.520000\n",
       "75%         9.370000\n",
       "max        56.710000\n",
       "Name: WRI, dtype: float64"
      ]
     },
     "execution_count": 11,
     "metadata": {},
     "output_type": "execute_result"
    }
   ],
   "source": [
    "# Check min, mean & max\n",
    "df['WRI'].describe()"
   ]
  },
  {
   "cell_type": "code",
   "execution_count": 12,
   "id": "5af8dae3",
   "metadata": {
    "scrolled": true
   },
   "outputs": [
    {
     "name": "stderr",
     "output_type": "stream",
     "text": [
      "/Users/sarahtischer/anaconda3/lib/python3.11/site-packages/seaborn/_oldcore.py:1119: FutureWarning: use_inf_as_na option is deprecated and will be removed in a future version. Convert inf values to NaN before operating instead.\n",
      "  with pd.option_context('mode.use_inf_as_na', True):\n"
     ]
    },
    {
     "data": {
      "image/png": "[encoded data removed]",
      "text/plain": [
       "<Figure size 640x480 with 1 Axes>"
      ]
     },
     "metadata": {},
     "output_type": "display_data"
    }
   ],
   "source": [
    "# Create a histplot to visualize extreme Exposure values\n",
    "hist_exp = sns.histplot(\n",
    "    df['Exposure'], kde=True,\n",
    "    stat='density', kde_kws=dict(cut=3),\n",
    "    bins=15,\n",
    "    edgecolor='none',\n",
    "    color='#2492b6',  \n",
    "    line_kws={'color': '#005b92'}\n",
    ")"
   ]
  },
  {
   "cell_type": "code",
   "execution_count": 13,
   "id": "a6540a9e",
   "metadata": {},
   "outputs": [],
   "source": [
    "# Export histrogram\n",
    "hist_exp.figure.savefig(os.path.join(path, '04_Analysis','Visualizations', '4_hist_exp.png'), bbox_inches='tight')"
   ]
  },
  {
   "cell_type": "code",
   "execution_count": 14,
   "id": "e1f34deb",
   "metadata": {},
   "outputs": [
    {
     "data": {
      "text/plain": [
       "count    1917.000000\n",
       "mean       15.380026\n",
       "std        10.234068\n",
       "min         0.050000\n",
       "25%        10.160000\n",
       "50%        12.760000\n",
       "75%        16.450000\n",
       "max        99.880000\n",
       "Name: Exposure, dtype: float64"
      ]
     },
     "execution_count": 14,
     "metadata": {},
     "output_type": "execute_result"
    }
   ],
   "source": [
    "# Check min, mean & max\n",
    "df['Exposure'].describe()"
   ]
  },
  {
   "cell_type": "markdown",
   "id": "b5823688",
   "metadata": {},
   "source": [
    "#### <mark>Note:</mark>\n",
    "\n",
    "Some extremely high values for both WRI and Exposure could potentially be considered outliers. However, as there is no reasonable justification for them and they may be inherent in the data, they are not removed to avoid the risk of distorting reality and potentially biasing the model."
   ]
  },
  {
   "cell_type": "markdown",
   "id": "a6fd5cb0",
   "metadata": {},
   "source": [
    "# 4. Data preparation"
   ]
  },
  {
   "cell_type": "markdown",
   "id": "2a12f96f",
   "metadata": {},
   "source": [
    "### Data visualization"
   ]
  },
  {
   "cell_type": "code",
   "execution_count": 15,
   "id": "f284db4b",
   "metadata": {
    "scrolled": true
   },
   "outputs": [
    {
     "data": {
      "text/plain": [
       "Text(0.5, 1.0, 'WRI vs. Exposure Scatterplot')"
      ]
     },
     "execution_count": 15,
     "metadata": {},
     "output_type": "execute_result"
    },
    {
     "data": {
      "image/png": "[encoded data removed]",
      "text/plain": [
       "<Figure size 640x480 with 1 Axes>"
      ]
     },
     "metadata": {},
     "output_type": "display_data"
    }
   ],
   "source": [
    "# Create a scatterplot to check how variables plot against each other\n",
    "sns.scatterplot(x='Exposure', y='WRI', data=df, color='#2492b6')\n",
    "\n",
    "# Set a title\n",
    "plt.title('WRI vs. Exposure Scatterplot')"
   ]
  },
  {
   "cell_type": "markdown",
   "id": "83c42c6f",
   "metadata": {},
   "source": [
    "### Hypothesis"
   ]
  },
  {
   "cell_type": "markdown",
   "id": "6b0acdb0",
   "metadata": {},
   "source": [
    "<mark>*\"The higher a country's exposure to natural hazards, the higher its overall risk index.\"*</mark>"
   ]
  },
  {
   "cell_type": "markdown",
   "id": "32445247",
   "metadata": {},
   "source": [
    "### NumPy arrays"
   ]
  },
  {
   "cell_type": "code",
   "execution_count": 16,
   "id": "8631d5f6",
   "metadata": {},
   "outputs": [],
   "source": [
    "# Reshape variables into NumPy arrays & put them into separate objects\n",
    "X = df['Exposure'].values.reshape(-1,1) # independent\n",
    "y = df['WRI'].values.reshape(-1,1) # dependent (the one that should be predicted)"
   ]
  },
  {
   "cell_type": "code",
   "execution_count": 17,
   "id": "5ca7260d",
   "metadata": {},
   "outputs": [
    {
     "data": {
      "text/plain": [
       "array([[56.33],\n",
       "       [56.04],\n",
       "       [45.09],\n",
       "       ...,\n",
       "       [ 2.93],\n",
       "       [ 1.65],\n",
       "       [ 0.28]])"
      ]
     },
     "execution_count": 17,
     "metadata": {},
     "output_type": "execute_result"
    }
   ],
   "source": [
    "# Check the output of the independent variable\n",
    "X"
   ]
  },
  {
   "cell_type": "code",
   "execution_count": 18,
   "id": "903dbf0b",
   "metadata": {},
   "outputs": [
    {
     "data": {
      "text/plain": [
       "array([[32.  ],\n",
       "       [29.08],\n",
       "       [24.32],\n",
       "       ...,\n",
       "       [ 1.14],\n",
       "       [ 0.6 ],\n",
       "       [ 0.08]])"
      ]
     },
     "execution_count": 18,
     "metadata": {},
     "output_type": "execute_result"
    }
   ],
   "source": [
    "# Check the output of the dependent variable\n",
    "y"
   ]
  },
  {
   "cell_type": "code",
   "execution_count": 19,
   "id": "d137952f",
   "metadata": {},
   "outputs": [],
   "source": [
    "# Split data into a training and a test set\n",
    "X_train, X_test, y_train, y_test = train_test_split(X, y, test_size=0.3, random_state=0)"
   ]
  },
  {
   "cell_type": "markdown",
   "id": "9e0c68fa",
   "metadata": {},
   "source": [
    "# 5. Regression analysis"
   ]
  },
  {
   "cell_type": "markdown",
   "id": "93d52f4c",
   "metadata": {},
   "source": [
    "### Predicting the test set"
   ]
  },
  {
   "cell_type": "code",
   "execution_count": 20,
   "id": "7cc92e89",
   "metadata": {},
   "outputs": [],
   "source": [
    "# Create a regression object\n",
    "regression = LinearRegression()"
   ]
  },
  {
   "cell_type": "code",
   "execution_count": 21,
   "id": "3d2a7dec",
   "metadata": {},
   "outputs": [
    {
     "data": {
      "text/html": [
       "<style>#sk-container-id-1 {color: black;}#sk-container-id-1 pre{padding: 0;}#sk-container-id-1 div.sk-toggleable {background-color: white;}#sk-container-id-1 label.sk-toggleable__label {cursor: pointer;display: block;width: 100%;margin-bottom: 0;padding: 0.3em;box-sizing: border-box;text-align: center;}#sk-container-id-1 label.sk-toggleable__label-arrow:before {content: \"▸\";float: left;margin-right: 0.25em;color: #696969;}#sk-container-id-1 label.sk-toggleable__label-arrow:hover:before {color: black;}#sk-container-id-1 div.sk-estimator:hover label.sk-toggleable__label-arrow:before {color: black;}#sk-container-id-1 div.sk-toggleable__content {max-height: 0;max-width: 0;overflow: hidden;text-align: left;background-color: #f0f8ff;}#sk-container-id-1 div.sk-toggleable__content pre {margin: 0.2em;color: black;border-radius: 0.25em;background-color: #f0f8ff;}#sk-container-id-1 input.sk-toggleable__control:checked~div.sk-toggleable__content {max-height: 200px;max-width: 100%;overflow: auto;}#sk-container-id-1 input.sk-toggleable__control:checked~label.sk-toggleable__label-arrow:before {content: \"▾\";}#sk-container-id-1 div.sk-estimator input.sk-toggleable__control:checked~label.sk-toggleable__label {background-color: #d4ebff;}#sk-container-id-1 div.sk-label input.sk-toggleable__control:checked~label.sk-toggleable__label {background-color: #d4ebff;}#sk-container-id-1 input.sk-hidden--visually {border: 0;clip: rect(1px 1px 1px 1px);clip: rect(1px, 1px, 1px, 1px);height: 1px;margin: -1px;overflow: hidden;padding: 0;position: absolute;width: 1px;}#sk-container-id-1 div.sk-estimator {font-family: monospace;background-color: #f0f8ff;border: 1px dotted black;border-radius: 0.25em;box-sizing: border-box;margin-bottom: 0.5em;}#sk-container-id-1 div.sk-estimator:hover {background-color: #d4ebff;}#sk-container-id-1 div.sk-parallel-item::after {content: \"\";width: 100%;border-bottom: 1px solid gray;flex-grow: 1;}#sk-container-id-1 div.sk-label:hover label.sk-toggleable__label {background-color: #d4ebff;}#sk-container-id-1 div.sk-serial::before {content: \"\";position: absolute;border-left: 1px solid gray;box-sizing: border-box;top: 0;bottom: 0;left: 50%;z-index: 0;}#sk-container-id-1 div.sk-serial {display: flex;flex-direction: column;align-items: center;background-color: white;padding-right: 0.2em;padding-left: 0.2em;position: relative;}#sk-container-id-1 div.sk-item {position: relative;z-index: 1;}#sk-container-id-1 div.sk-parallel {display: flex;align-items: stretch;justify-content: center;background-color: white;position: relative;}#sk-container-id-1 div.sk-item::before, #sk-container-id-1 div.sk-parallel-item::before {content: \"\";position: absolute;border-left: 1px solid gray;box-sizing: border-box;top: 0;bottom: 0;left: 50%;z-index: -1;}#sk-container-id-1 div.sk-parallel-item {display: flex;flex-direction: column;z-index: 1;position: relative;background-color: white;}#sk-container-id-1 div.sk-parallel-item:first-child::after {align-self: flex-end;width: 50%;}#sk-container-id-1 div.sk-parallel-item:last-child::after {align-self: flex-start;width: 50%;}#sk-container-id-1 div.sk-parallel-item:only-child::after {width: 0;}#sk-container-id-1 div.sk-dashed-wrapped {border: 1px dashed gray;margin: 0 0.4em 0.5em 0.4em;box-sizing: border-box;padding-bottom: 0.4em;background-color: white;}#sk-container-id-1 div.sk-label label {font-family: monospace;font-weight: bold;display: inline-block;line-height: 1.2em;}#sk-container-id-1 div.sk-label-container {text-align: center;}#sk-container-id-1 div.sk-container {/* jupyter's `normalize.less` sets `[hidden] { display: none; }` but bootstrap.min.css set `[hidden] { display: none !important; }` so we also need the `!important` here to be able to override the default hidden behavior on the sphinx rendered scikit-learn.org. See: https://github.com/scikit-learn/scikit-learn/issues/21755 */display: inline-block !important;position: relative;}#sk-container-id-1 div.sk-text-repr-fallback {display: none;}</style><div id=\"sk-container-id-1\" class=\"sk-top-container\"><div class=\"sk-text-repr-fallback\"><pre>LinearRegression()</pre><b>In a Jupyter environment, please rerun this cell to show the HTML representation or trust the notebook. <br />On GitHub, the HTML representation is unable to render, please try loading this page with nbviewer.org.</b></div><div class=\"sk-container\" hidden><div class=\"sk-item\"><div class=\"sk-estimator sk-toggleable\"><input class=\"sk-toggleable__control sk-hidden--visually\" id=\"sk-estimator-id-1\" type=\"checkbox\" checked><label for=\"sk-estimator-id-1\" class=\"sk-toggleable__label sk-toggleable__label-arrow\">LinearRegression</label><div class=\"sk-toggleable__content\"><pre>LinearRegression()</pre></div></div></div></div></div>"
      ],
      "text/plain": [
       "LinearRegression()"
      ]
     },
     "execution_count": 21,
     "metadata": {},
     "output_type": "execute_result"
    }
   ],
   "source": [
    "# Fit the regression object onto the training set\n",
    "regression.fit(X_train, y_train)"
   ]
  },
  {
   "cell_type": "code",
   "execution_count": 22,
   "id": "5467086c",
   "metadata": {},
   "outputs": [],
   "source": [
    "# Predict the values of y using X_test\n",
    "y_predicted = regression.predict(X_test)"
   ]
  },
  {
   "cell_type": "code",
   "execution_count": 23,
   "id": "b1546060",
   "metadata": {
    "scrolled": false
   },
   "outputs": [
    {
     "data": {
      "image/png": "[encoded data removed]",
      "text/plain": [
       "<Figure size 640x480 with 1 Axes>"
      ]
     },
     "metadata": {},
     "output_type": "display_data"
    }
   ],
   "source": [
    "# Create a plot that shows the regression line from the model on the test set\n",
    "plot_test = plt\n",
    "plot_test.scatter(X_test, y_test, color='gray', s=15)\n",
    "plot_test.plot(X_test, y_predicted, color='red', linewidth=3)\n",
    "plot_test.title('WRI vs. Exposure (Test set)')\n",
    "plot_test.xlabel('Exposure')\n",
    "plot_test.ylabel('WRI')\n",
    "plot_test.show()"
   ]
  },
  {
   "cell_type": "markdown",
   "id": "3837d30e",
   "metadata": {},
   "source": [
    "#### <mark>Interpretation:</mark>\n",
    "\n",
    "* The plot output of the linear regression model generally follows a single, straight regression line, indicating a positive relationship between Exposure and WRI. \n",
    "* Lower values tend to be closer to the regression line than higher values. \n",
    "* There are fewer high values (WRI > 10, Exposure > 20), which could potentially make it more difficult for the model to accurately predict higher values and contribute to some inaccuracy in this range. \n",
    "* However, overall the plot shows a good fit of the predicted values to the regression line, suggesting that the model effectively captures the strong positive relationship between Exposure and WRI."
   ]
  },
  {
   "cell_type": "code",
   "execution_count": 24,
   "id": "04a3eee3",
   "metadata": {},
   "outputs": [],
   "source": [
    "# Create objects containing the model's summary statistics\n",
    "rmse = mean_squared_error(y_test, y_predicted) # Mean squared error\n",
    "r2 = r2_score(y_test, y_predicted) # R2 score"
   ]
  },
  {
   "cell_type": "code",
   "execution_count": 25,
   "id": "8e715149",
   "metadata": {
    "scrolled": true
   },
   "outputs": [
    {
     "name": "stdout",
     "output_type": "stream",
     "text": [
      "Slope: [[0.49996642]]\n",
      "Mean squared error:  5.023977788209462\n",
      "R2 score:  0.8386897606193112\n"
     ]
    }
   ],
   "source": [
    "# Print summary statistics\n",
    "print('Slope:', regression.coef_)\n",
    "print('Mean squared error: ', rmse)\n",
    "print('R2 score: ', r2)"
   ]
  },
  {
   "cell_type": "code",
   "execution_count": 26,
   "id": "0e3983ce",
   "metadata": {},
   "outputs": [
    {
     "data": {
      "text/html": [
       "<div>\n",
       "<style scoped>\n",
       "    .dataframe tbody tr th:only-of-type {\n",
       "        vertical-align: middle;\n",
       "    }\n",
       "\n",
       "    .dataframe tbody tr th {\n",
       "        vertical-align: top;\n",
       "    }\n",
       "\n",
       "    .dataframe thead th {\n",
       "        text-align: right;\n",
       "    }\n",
       "</style>\n",
       "<table border=\"1\" class=\"dataframe\">\n",
       "  <thead>\n",
       "    <tr style=\"text-align: right;\">\n",
       "      <th></th>\n",
       "      <th>Actual</th>\n",
       "      <th>Predicted</th>\n",
       "    </tr>\n",
       "  </thead>\n",
       "  <tbody>\n",
       "    <tr>\n",
       "      <th>0</th>\n",
       "      <td>3.41</td>\n",
       "      <td>5.613427</td>\n",
       "    </tr>\n",
       "    <tr>\n",
       "      <th>1</th>\n",
       "      <td>3.47</td>\n",
       "      <td>3.468571</td>\n",
       "    </tr>\n",
       "    <tr>\n",
       "      <th>2</th>\n",
       "      <td>6.80</td>\n",
       "      <td>7.128325</td>\n",
       "    </tr>\n",
       "    <tr>\n",
       "      <th>3</th>\n",
       "      <td>7.46</td>\n",
       "      <td>5.468437</td>\n",
       "    </tr>\n",
       "    <tr>\n",
       "      <th>4</th>\n",
       "      <td>3.67</td>\n",
       "      <td>3.548566</td>\n",
       "    </tr>\n",
       "    <tr>\n",
       "      <th>5</th>\n",
       "      <td>6.45</td>\n",
       "      <td>7.083328</td>\n",
       "    </tr>\n",
       "    <tr>\n",
       "      <th>6</th>\n",
       "      <td>9.60</td>\n",
       "      <td>11.478033</td>\n",
       "    </tr>\n",
       "    <tr>\n",
       "      <th>7</th>\n",
       "      <td>5.30</td>\n",
       "      <td>4.433506</td>\n",
       "    </tr>\n",
       "    <tr>\n",
       "      <th>8</th>\n",
       "      <td>9.21</td>\n",
       "      <td>7.143324</td>\n",
       "    </tr>\n",
       "    <tr>\n",
       "      <th>9</th>\n",
       "      <td>7.17</td>\n",
       "      <td>6.488368</td>\n",
       "    </tr>\n",
       "    <tr>\n",
       "      <th>10</th>\n",
       "      <td>4.17</td>\n",
       "      <td>5.723420</td>\n",
       "    </tr>\n",
       "    <tr>\n",
       "      <th>11</th>\n",
       "      <td>7.28</td>\n",
       "      <td>5.753418</td>\n",
       "    </tr>\n",
       "    <tr>\n",
       "      <th>12</th>\n",
       "      <td>11.34</td>\n",
       "      <td>7.523299</td>\n",
       "    </tr>\n",
       "    <tr>\n",
       "      <th>13</th>\n",
       "      <td>8.62</td>\n",
       "      <td>8.843210</td>\n",
       "    </tr>\n",
       "    <tr>\n",
       "      <th>14</th>\n",
       "      <td>10.36</td>\n",
       "      <td>10.068128</td>\n",
       "    </tr>\n",
       "    <tr>\n",
       "      <th>15</th>\n",
       "      <td>6.23</td>\n",
       "      <td>4.058532</td>\n",
       "    </tr>\n",
       "    <tr>\n",
       "      <th>16</th>\n",
       "      <td>4.46</td>\n",
       "      <td>3.893543</td>\n",
       "    </tr>\n",
       "    <tr>\n",
       "      <th>17</th>\n",
       "      <td>6.56</td>\n",
       "      <td>11.313044</td>\n",
       "    </tr>\n",
       "    <tr>\n",
       "      <th>18</th>\n",
       "      <td>5.85</td>\n",
       "      <td>5.768417</td>\n",
       "    </tr>\n",
       "    <tr>\n",
       "      <th>19</th>\n",
       "      <td>6.52</td>\n",
       "      <td>4.863477</td>\n",
       "    </tr>\n",
       "    <tr>\n",
       "      <th>20</th>\n",
       "      <td>16.37</td>\n",
       "      <td>12.647955</td>\n",
       "    </tr>\n",
       "    <tr>\n",
       "      <th>21</th>\n",
       "      <td>11.53</td>\n",
       "      <td>7.718286</td>\n",
       "    </tr>\n",
       "    <tr>\n",
       "      <th>22</th>\n",
       "      <td>8.69</td>\n",
       "      <td>8.848210</td>\n",
       "    </tr>\n",
       "    <tr>\n",
       "      <th>23</th>\n",
       "      <td>3.84</td>\n",
       "      <td>4.473504</td>\n",
       "    </tr>\n",
       "    <tr>\n",
       "      <th>24</th>\n",
       "      <td>1.71</td>\n",
       "      <td>3.353579</td>\n",
       "    </tr>\n",
       "    <tr>\n",
       "      <th>25</th>\n",
       "      <td>6.31</td>\n",
       "      <td>6.793348</td>\n",
       "    </tr>\n",
       "    <tr>\n",
       "      <th>26</th>\n",
       "      <td>8.78</td>\n",
       "      <td>5.713420</td>\n",
       "    </tr>\n",
       "    <tr>\n",
       "      <th>27</th>\n",
       "      <td>18.02</td>\n",
       "      <td>18.912534</td>\n",
       "    </tr>\n",
       "    <tr>\n",
       "      <th>28</th>\n",
       "      <td>3.30</td>\n",
       "      <td>6.083396</td>\n",
       "    </tr>\n",
       "    <tr>\n",
       "      <th>29</th>\n",
       "      <td>7.35</td>\n",
       "      <td>15.647753</td>\n",
       "    </tr>\n",
       "    <tr>\n",
       "      <th>30</th>\n",
       "      <td>5.69</td>\n",
       "      <td>4.363511</td>\n",
       "    </tr>\n",
       "    <tr>\n",
       "      <th>31</th>\n",
       "      <td>12.07</td>\n",
       "      <td>9.428171</td>\n",
       "    </tr>\n",
       "    <tr>\n",
       "      <th>32</th>\n",
       "      <td>18.82</td>\n",
       "      <td>26.137049</td>\n",
       "    </tr>\n",
       "    <tr>\n",
       "      <th>33</th>\n",
       "      <td>2.38</td>\n",
       "      <td>2.178658</td>\n",
       "    </tr>\n",
       "    <tr>\n",
       "      <th>34</th>\n",
       "      <td>11.69</td>\n",
       "      <td>10.028131</td>\n",
       "    </tr>\n",
       "    <tr>\n",
       "      <th>35</th>\n",
       "      <td>5.53</td>\n",
       "      <td>4.773484</td>\n",
       "    </tr>\n",
       "    <tr>\n",
       "      <th>36</th>\n",
       "      <td>3.33</td>\n",
       "      <td>4.833479</td>\n",
       "    </tr>\n",
       "    <tr>\n",
       "      <th>37</th>\n",
       "      <td>5.72</td>\n",
       "      <td>4.988469</td>\n",
       "    </tr>\n",
       "    <tr>\n",
       "      <th>38</th>\n",
       "      <td>6.70</td>\n",
       "      <td>10.338110</td>\n",
       "    </tr>\n",
       "    <tr>\n",
       "      <th>39</th>\n",
       "      <td>6.06</td>\n",
       "      <td>8.418239</td>\n",
       "    </tr>\n",
       "    <tr>\n",
       "      <th>40</th>\n",
       "      <td>6.26</td>\n",
       "      <td>4.058532</td>\n",
       "    </tr>\n",
       "    <tr>\n",
       "      <th>41</th>\n",
       "      <td>4.51</td>\n",
       "      <td>4.333513</td>\n",
       "    </tr>\n",
       "    <tr>\n",
       "      <th>42</th>\n",
       "      <td>5.56</td>\n",
       "      <td>5.543432</td>\n",
       "    </tr>\n",
       "    <tr>\n",
       "      <th>43</th>\n",
       "      <td>11.19</td>\n",
       "      <td>8.878208</td>\n",
       "    </tr>\n",
       "    <tr>\n",
       "      <th>44</th>\n",
       "      <td>1.32</td>\n",
       "      <td>1.513702</td>\n",
       "    </tr>\n",
       "    <tr>\n",
       "      <th>45</th>\n",
       "      <td>10.49</td>\n",
       "      <td>7.343311</td>\n",
       "    </tr>\n",
       "    <tr>\n",
       "      <th>46</th>\n",
       "      <td>3.65</td>\n",
       "      <td>3.298583</td>\n",
       "    </tr>\n",
       "    <tr>\n",
       "      <th>47</th>\n",
       "      <td>13.57</td>\n",
       "      <td>12.717950</td>\n",
       "    </tr>\n",
       "    <tr>\n",
       "      <th>48</th>\n",
       "      <td>3.31</td>\n",
       "      <td>5.978403</td>\n",
       "    </tr>\n",
       "    <tr>\n",
       "      <th>49</th>\n",
       "      <td>6.97</td>\n",
       "      <td>7.338311</td>\n",
       "    </tr>\n",
       "  </tbody>\n",
       "</table>\n",
       "</div>"
      ],
      "text/plain": [
       "    Actual  Predicted\n",
       "0     3.41   5.613427\n",
       "1     3.47   3.468571\n",
       "2     6.80   7.128325\n",
       "3     7.46   5.468437\n",
       "4     3.67   3.548566\n",
       "5     6.45   7.083328\n",
       "6     9.60  11.478033\n",
       "7     5.30   4.433506\n",
       "8     9.21   7.143324\n",
       "9     7.17   6.488368\n",
       "10    4.17   5.723420\n",
       "11    7.28   5.753418\n",
       "12   11.34   7.523299\n",
       "13    8.62   8.843210\n",
       "14   10.36  10.068128\n",
       "15    6.23   4.058532\n",
       "16    4.46   3.893543\n",
       "17    6.56  11.313044\n",
       "18    5.85   5.768417\n",
       "19    6.52   4.863477\n",
       "20   16.37  12.647955\n",
       "21   11.53   7.718286\n",
       "22    8.69   8.848210\n",
       "23    3.84   4.473504\n",
       "24    1.71   3.353579\n",
       "25    6.31   6.793348\n",
       "26    8.78   5.713420\n",
       "27   18.02  18.912534\n",
       "28    3.30   6.083396\n",
       "29    7.35  15.647753\n",
       "30    5.69   4.363511\n",
       "31   12.07   9.428171\n",
       "32   18.82  26.137049\n",
       "33    2.38   2.178658\n",
       "34   11.69  10.028131\n",
       "35    5.53   4.773484\n",
       "36    3.33   4.833479\n",
       "37    5.72   4.988469\n",
       "38    6.70  10.338110\n",
       "39    6.06   8.418239\n",
       "40    6.26   4.058532\n",
       "41    4.51   4.333513\n",
       "42    5.56   5.543432\n",
       "43   11.19   8.878208\n",
       "44    1.32   1.513702\n",
       "45   10.49   7.343311\n",
       "46    3.65   3.298583\n",
       "47   13.57  12.717950\n",
       "48    3.31   5.978403\n",
       "49    6.97   7.338311"
      ]
     },
     "execution_count": 26,
     "metadata": {},
     "output_type": "execute_result"
    }
   ],
   "source": [
    "# Create a dataframe comparing the actual and predicted values of y\n",
    "data = pd.DataFrame({'Actual': y_test.flatten(), 'Predicted': y_predicted.flatten()})\n",
    "\n",
    "data.head(50)"
   ]
  },
  {
   "cell_type": "markdown",
   "id": "47c2bdf3",
   "metadata": {},
   "source": [
    "#### <mark>Interpretation:</mark>\n",
    "\n",
    "**Slope:** \n",
    "\n",
    "* The positive slope coefficient indicates that there is a positive relationship between a country's exposure to natural hazards (Exposure) and its overall risk index (WRI). Specifically, for every unit increase in Exposure, the WRI is expected to increase by approximately 0.5 units.\n",
    "\n",
    "**Mean Squared Error (MSE):**\n",
    "\n",
    "* The MSE of 5 suggests that, on average, the model's predictions of WRI based on Exposure have a squared error of 5 units. Given the scale and variability of the dependent variable (WRI) and the context of the analysis, this MSE seems reasonable. It indicates that the model's predictions are relatively close to the actual WRI values and capture a substantial portion of the variability in the WRI based on Exposure.\n",
    "\n",
    "**R2 score:** \n",
    "\n",
    "* The high R-squared value of about 0.84 indicates that about 84% of the variance in WRI can be explained by Exposure. This suggests a relatively strong relationship between Exposure and WRI, further supporting the validity of the regression model.\n",
    "\n",
    "Based on these results, **the model appears to have performed well on the test set**:\n",
    "\n",
    "It effectively captures the relationship between Exposure and WRI, as indicated by the positive slope coefficient and the high R-squared value.\n",
    "The MSE, while not exceptionally small, is reasonable given the scale and variability of the WRI variable and the context of the analysis. It indicates that, on average, the model's predictions are close to the actual WRI values.\n",
    "___\n",
    "**Manual inspection:** \n",
    "\n",
    "* Upon visual inspection, it appears that the model generally predicts WRI values that are close to the actual values. However, there are cases where the predicted values are significantly different from the actual values.\n",
    "* For example, at index 29, the predicted value (15.647753) is significantly higher than the actual value (7.35), indicating a large discrepancy.\n",
    "* Overall, **while the model performs reasonably well, there are areas where it could be improved**, particularly in predicting extreme values. Further refinement of the model, possibly incorporating additional features or data, may help improve its predictive accuracy and reduce the discrepancies between actual and predicted values.\n",
    "___\n",
    "Considerations for **model prediction bias**:\n",
    "\n",
    "* The data set may not fully capture all natural hazards and climate impacts, potentially biasing predictions due to under-representation of regions or disaster types.\n",
    "\n",
    "* Model performance varies with the geographic distribution of data. Countries with extensive data may provide more accurate predictions, while countries with limited data face potential inaccuracies.\n",
    "\n",
    "* Socio-economic factors and access to resources influence hazard coping; complex dynamics may be missed.\n",
    "\n",
    "* Historical data may miss future trends such as urbanization or technology.\n",
    "\n",
    "* Inaccuracies or gaps, along with reporting biases, can distort model generalization.\n",
    "\n",
    "* Linear regression can oversimplify exposure-risk relationships, especially in non-linear cases."
   ]
  },
  {
   "cell_type": "markdown",
   "id": "b296cf5a",
   "metadata": {},
   "source": [
    "### Comparison against training set"
   ]
  },
  {
   "cell_type": "code",
   "execution_count": 27,
   "id": "1d48c378",
   "metadata": {},
   "outputs": [],
   "source": [
    "# Predict the values of y using X_train\n",
    "y_predicted_train = regression.predict(X_train)"
   ]
  },
  {
   "cell_type": "code",
   "execution_count": 28,
   "id": "ec000cd7",
   "metadata": {},
   "outputs": [],
   "source": [
    "# Create objects containing the model's summary statistics\n",
    "rmse_train = mean_squared_error(y_train, y_predicted_train)\n",
    "r2_train = r2_score(y_train, y_predicted_train)"
   ]
  },
  {
   "cell_type": "code",
   "execution_count": 29,
   "id": "a4cee757",
   "metadata": {},
   "outputs": [
    {
     "name": "stdout",
     "output_type": "stream",
     "text": [
      "Slope: [[0.49996642]]\n",
      "Mean squared error:  4.81642721969307\n",
      "R2 score:  0.8424847440869\n"
     ]
    }
   ],
   "source": [
    "# Print summary statistics\n",
    "print('Slope:', regression.coef_)\n",
    "print('Mean squared error: ', rmse_train)\n",
    "print('R2 score: ', r2_train)"
   ]
  },
  {
   "cell_type": "code",
   "execution_count": 30,
   "id": "b02d9461",
   "metadata": {
    "scrolled": true
   },
   "outputs": [
    {
     "data": {
      "image/png": "[encoded data removed]",
      "text/plain": [
       "<Figure size 640x480 with 1 Axes>"
      ]
     },
     "metadata": {},
     "output_type": "display_data"
    }
   ],
   "source": [
    "# Create a plot that shows the regression line from the model on the test set\n",
    "plot_train = plt\n",
    "plot_train.scatter(X_train, y_train, color='green', s=15)\n",
    "plot_train.plot(X_train, y_predicted_train, color='red', linewidth=3)\n",
    "plot_train.title('WRI vs. Exposure (Train set)')\n",
    "plot_train.xlabel('Exposure')\n",
    "plot_train.ylabel('WRI')\n",
    "plot_train.show()"
   ]
  },
  {
   "cell_type": "markdown",
   "id": "e8f0fdeb",
   "metadata": {},
   "source": [
    "#### <mark>Interpretation:</mark>\n",
    "\n",
    "The model fits the training set only slightly better than the test set (confirmed by an R2 score of 0.84), meaning that the model is **not overfit**."
   ]
  },
  {
   "cell_type": "markdown",
   "id": "b592f5d3",
   "metadata": {},
   "source": [
    "### Performance improvement after removing outliers"
   ]
  },
  {
   "cell_type": "code",
   "execution_count": 31,
   "id": "8d4e7fda",
   "metadata": {},
   "outputs": [],
   "source": [
    "# Clean extreme values from WRI\n",
    "df_sub = df[df['WRI'] <=40]"
   ]
  },
  {
   "cell_type": "code",
   "execution_count": 32,
   "id": "34ca12c9",
   "metadata": {
    "scrolled": true
   },
   "outputs": [
    {
     "data": {
      "text/plain": [
       "Text(0.5, 1.0, 'WRI vs. Exposure Scatterplot')"
      ]
     },
     "execution_count": 32,
     "metadata": {},
     "output_type": "execute_result"
    },
    {
     "data": {
      "image/png": "[encoded data removed]",
      "text/plain": [
       "<Figure size 640x480 with 1 Axes>"
      ]
     },
     "metadata": {},
     "output_type": "display_data"
    }
   ],
   "source": [
    "# Create a scatterplot to check how variables plot against each other\n",
    "sns.scatterplot(x='Exposure', y='WRI', data=df_sub, color='#2492b6')\n",
    "\n",
    "# Set a title\n",
    "plt.title('WRI vs. Exposure Scatterplot')"
   ]
  },
  {
   "cell_type": "code",
   "execution_count": 33,
   "id": "01f305d8",
   "metadata": {},
   "outputs": [],
   "source": [
    "# Reshape variables into NumPy arrays & put them into separate objects\n",
    "X_2 = df_sub['Exposure'].values.reshape(-1,1) # independent\n",
    "y_2 = df_sub['WRI'].values.reshape(-1,1) # dependent (the one that should be predicted)"
   ]
  },
  {
   "cell_type": "code",
   "execution_count": 34,
   "id": "d0575f74",
   "metadata": {},
   "outputs": [],
   "source": [
    "# Split data into a training and a test set\n",
    "X_train_2, X_test_2, y_train_2, y_test_2 = train_test_split(X_2, y_2, test_size=0.3, random_state=0)"
   ]
  },
  {
   "cell_type": "code",
   "execution_count": 35,
   "id": "8e849a67",
   "metadata": {},
   "outputs": [],
   "source": [
    "# Create a regression object\n",
    "regression_2 = LinearRegression()"
   ]
  },
  {
   "cell_type": "code",
   "execution_count": 36,
   "id": "344ab07e",
   "metadata": {},
   "outputs": [
    {
     "data": {
      "text/html": [
       "<style>#sk-container-id-2 {color: black;}#sk-container-id-2 pre{padding: 0;}#sk-container-id-2 div.sk-toggleable {background-color: white;}#sk-container-id-2 label.sk-toggleable__label {cursor: pointer;display: block;width: 100%;margin-bottom: 0;padding: 0.3em;box-sizing: border-box;text-align: center;}#sk-container-id-2 label.sk-toggleable__label-arrow:before {content: \"▸\";float: left;margin-right: 0.25em;color: #696969;}#sk-container-id-2 label.sk-toggleable__label-arrow:hover:before {color: black;}#sk-container-id-2 div.sk-estimator:hover label.sk-toggleable__label-arrow:before {color: black;}#sk-container-id-2 div.sk-toggleable__content {max-height: 0;max-width: 0;overflow: hidden;text-align: left;background-color: #f0f8ff;}#sk-container-id-2 div.sk-toggleable__content pre {margin: 0.2em;color: black;border-radius: 0.25em;background-color: #f0f8ff;}#sk-container-id-2 input.sk-toggleable__control:checked~div.sk-toggleable__content {max-height: 200px;max-width: 100%;overflow: auto;}#sk-container-id-2 input.sk-toggleable__control:checked~label.sk-toggleable__label-arrow:before {content: \"▾\";}#sk-container-id-2 div.sk-estimator input.sk-toggleable__control:checked~label.sk-toggleable__label {background-color: #d4ebff;}#sk-container-id-2 div.sk-label input.sk-toggleable__control:checked~label.sk-toggleable__label {background-color: #d4ebff;}#sk-container-id-2 input.sk-hidden--visually {border: 0;clip: rect(1px 1px 1px 1px);clip: rect(1px, 1px, 1px, 1px);height: 1px;margin: -1px;overflow: hidden;padding: 0;position: absolute;width: 1px;}#sk-container-id-2 div.sk-estimator {font-family: monospace;background-color: #f0f8ff;border: 1px dotted black;border-radius: 0.25em;box-sizing: border-box;margin-bottom: 0.5em;}#sk-container-id-2 div.sk-estimator:hover {background-color: #d4ebff;}#sk-container-id-2 div.sk-parallel-item::after {content: \"\";width: 100%;border-bottom: 1px solid gray;flex-grow: 1;}#sk-container-id-2 div.sk-label:hover label.sk-toggleable__label {background-color: #d4ebff;}#sk-container-id-2 div.sk-serial::before {content: \"\";position: absolute;border-left: 1px solid gray;box-sizing: border-box;top: 0;bottom: 0;left: 50%;z-index: 0;}#sk-container-id-2 div.sk-serial {display: flex;flex-direction: column;align-items: center;background-color: white;padding-right: 0.2em;padding-left: 0.2em;position: relative;}#sk-container-id-2 div.sk-item {position: relative;z-index: 1;}#sk-container-id-2 div.sk-parallel {display: flex;align-items: stretch;justify-content: center;background-color: white;position: relative;}#sk-container-id-2 div.sk-item::before, #sk-container-id-2 div.sk-parallel-item::before {content: \"\";position: absolute;border-left: 1px solid gray;box-sizing: border-box;top: 0;bottom: 0;left: 50%;z-index: -1;}#sk-container-id-2 div.sk-parallel-item {display: flex;flex-direction: column;z-index: 1;position: relative;background-color: white;}#sk-container-id-2 div.sk-parallel-item:first-child::after {align-self: flex-end;width: 50%;}#sk-container-id-2 div.sk-parallel-item:last-child::after {align-self: flex-start;width: 50%;}#sk-container-id-2 div.sk-parallel-item:only-child::after {width: 0;}#sk-container-id-2 div.sk-dashed-wrapped {border: 1px dashed gray;margin: 0 0.4em 0.5em 0.4em;box-sizing: border-box;padding-bottom: 0.4em;background-color: white;}#sk-container-id-2 div.sk-label label {font-family: monospace;font-weight: bold;display: inline-block;line-height: 1.2em;}#sk-container-id-2 div.sk-label-container {text-align: center;}#sk-container-id-2 div.sk-container {/* jupyter's `normalize.less` sets `[hidden] { display: none; }` but bootstrap.min.css set `[hidden] { display: none !important; }` so we also need the `!important` here to be able to override the default hidden behavior on the sphinx rendered scikit-learn.org. See: https://github.com/scikit-learn/scikit-learn/issues/21755 */display: inline-block !important;position: relative;}#sk-container-id-2 div.sk-text-repr-fallback {display: none;}</style><div id=\"sk-container-id-2\" class=\"sk-top-container\"><div class=\"sk-text-repr-fallback\"><pre>LinearRegression()</pre><b>In a Jupyter environment, please rerun this cell to show the HTML representation or trust the notebook. <br />On GitHub, the HTML representation is unable to render, please try loading this page with nbviewer.org.</b></div><div class=\"sk-container\" hidden><div class=\"sk-item\"><div class=\"sk-estimator sk-toggleable\"><input class=\"sk-toggleable__control sk-hidden--visually\" id=\"sk-estimator-id-2\" type=\"checkbox\" checked><label for=\"sk-estimator-id-2\" class=\"sk-toggleable__label sk-toggleable__label-arrow\">LinearRegression</label><div class=\"sk-toggleable__content\"><pre>LinearRegression()</pre></div></div></div></div></div>"
      ],
      "text/plain": [
       "LinearRegression()"
      ]
     },
     "execution_count": 36,
     "metadata": {},
     "output_type": "execute_result"
    }
   ],
   "source": [
    "# Fit the regression object onto the training set\n",
    "regression_2.fit(X_train_2, y_train_2)"
   ]
  },
  {
   "cell_type": "code",
   "execution_count": 37,
   "id": "ff368f8f",
   "metadata": {},
   "outputs": [],
   "source": [
    "# Predict the values of y using X_test\n",
    "y_predicted_2 = regression_2.predict(X_test_2)"
   ]
  },
  {
   "cell_type": "code",
   "execution_count": 38,
   "id": "c196a898",
   "metadata": {
    "scrolled": true
   },
   "outputs": [
    {
     "data": {
      "image/png": "[encoded data removed]",
      "text/plain": [
       "<Figure size 640x480 with 1 Axes>"
      ]
     },
     "metadata": {},
     "output_type": "display_data"
    }
   ],
   "source": [
    "# Create a plot that shows the regression line from the model on the test set\n",
    "plot_test_2 = plt\n",
    "plot_test_2.scatter(X_test_2, y_test_2, color='gray', s=15)\n",
    "plot_test_2.plot(X_test_2, y_predicted_2, color='red', linewidth=3)\n",
    "plot_test_2.title('WRI vs. Exposure (Test set w/o outliers)')\n",
    "plot_test_2.xlabel('Exposure')\n",
    "plot_test_2.ylabel('WRI')\n",
    "plot_test_2.show()"
   ]
  },
  {
   "cell_type": "code",
   "execution_count": 39,
   "id": "e1b5a914",
   "metadata": {},
   "outputs": [],
   "source": [
    "# Create objects containing the model's summary statistics\n",
    "rmse_2 = mean_squared_error(y_test_2, y_predicted_2) # Mean squared error\n",
    "r2_2 = r2_score(y_test_2, y_predicted_2) # R2 score"
   ]
  },
  {
   "cell_type": "code",
   "execution_count": 40,
   "id": "5358305e",
   "metadata": {},
   "outputs": [
    {
     "name": "stdout",
     "output_type": "stream",
     "text": [
      "Slope: [[0.48938353]]\n",
      "Mean squared error:  4.867179591504397\n",
      "R2 score:  0.8410554271202886\n"
     ]
    }
   ],
   "source": [
    "# Print summary statistics\n",
    "print('Slope:', regression_2.coef_)\n",
    "print('Mean squared error: ', rmse_2)\n",
    "print('R2 score: ', r2_2)"
   ]
  },
  {
   "cell_type": "markdown",
   "id": "a2b076f5",
   "metadata": {},
   "source": [
    "#### <mark>Interpretation:</mark>\n",
    "\n",
    "With outliers removed, the model performs only slightly better (MSE of 4.867179591504397 vs. 5.023977788209462; R2 of 0.8410554271202886 vs. 0.8386897606193112). Since removing outliers may be a distortion of reality and doesn't result in a better fitting model, this model can safely be disregarded."
   ]
  }
 ],
 "metadata": {
  "kernelspec": {
   "display_name": "Python 3 (ipykernel)",
   "language": "python",
   "name": "python3"
  },
  "language_info": {
   "codemirror_mode": {
    "name": "ipython",
    "version": 3
   },
   "file_extension": ".py",
   "mimetype": "text/x-python",
   "name": "python",
   "nbconvert_exporter": "python",
   "pygments_lexer": "ipython3",
   "version": "3.11.5"
  }
 },
 "nbformat": 4,
 "nbformat_minor": 5
}
