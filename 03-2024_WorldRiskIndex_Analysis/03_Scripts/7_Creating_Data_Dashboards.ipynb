{
 "cells": [
  {
   "cell_type": "markdown",
   "id": "b93f8b63",
   "metadata": {},
   "source": [
    "# Creating Data Dashboards\n",
    "\n",
    "#### Table of Contents\n",
    "\n",
    "    1. Importing libraries\n",
    "    2. Converting categorical values to ordinals\n",
    "    3. Clustering\n",
    "    4. Creating correlation matrix\n",
    "    5. Merging temperature dataframes\n",
    "    6. Merging WRI & HDI dataframes"
   ]
  },
  {
   "cell_type": "markdown",
   "id": "d0354bcc",
   "metadata": {},
   "source": [
    "# 1. Importing libraries"
   ]
  },
  {
   "cell_type": "code",
   "execution_count": 1,
   "id": "bd0d3611",
   "metadata": {},
   "outputs": [],
   "source": [
    "import pandas as pd\n",
    "import numpy as np\n",
    "import seaborn as sns\n",
    "import matplotlib\n",
    "import matplotlib.pyplot as plt\n",
    "import os\n",
    "import sklearn\n",
    "from sklearn.cluster import KMeans"
   ]
  },
  {
   "cell_type": "code",
   "execution_count": 2,
   "id": "fbee76a9",
   "metadata": {},
   "outputs": [],
   "source": [
    "# Turn project folder path into a string\n",
    "path = r'/Users/sarahtischer/Desktop/CareerFoundry/Data Immersion/Achievement 6/03-2024_WorldRiskIndex_Analysis'"
   ]
  },
  {
   "cell_type": "markdown",
   "id": "4362daf4",
   "metadata": {},
   "source": [
    "# 2. Converting categorical values to ordinals"
   ]
  },
  {
   "cell_type": "markdown",
   "id": "8c3bee82",
   "metadata": {},
   "source": [
    "#### Import data"
   ]
  },
  {
   "cell_type": "code",
   "execution_count": 3,
   "id": "c9ac5651",
   "metadata": {},
   "outputs": [],
   "source": [
    "# Import \"WRI_iso_updated.csv\"\n",
    "df_wri = pd.read_csv(os.path.join(path, '02_Data', 'Prepared_data', 'WRI_iso_updated.csv'), index_col = False)"
   ]
  },
  {
   "cell_type": "code",
   "execution_count": 4,
   "id": "18d65778",
   "metadata": {},
   "outputs": [
    {
     "data": {
      "text/plain": [
       "(1917, 13)"
      ]
     },
     "execution_count": 4,
     "metadata": {},
     "output_type": "execute_result"
    }
   ],
   "source": [
    "# Confirm the shape of the dataset\n",
    "df_wri.shape"
   ]
  },
  {
   "cell_type": "code",
   "execution_count": 5,
   "id": "165f3380",
   "metadata": {
    "scrolled": true
   },
   "outputs": [
    {
     "data": {
      "text/html": [
       "<div>\n",
       "<style scoped>\n",
       "    .dataframe tbody tr th:only-of-type {\n",
       "        vertical-align: middle;\n",
       "    }\n",
       "\n",
       "    .dataframe tbody tr th {\n",
       "        vertical-align: top;\n",
       "    }\n",
       "\n",
       "    .dataframe thead th {\n",
       "        text-align: right;\n",
       "    }\n",
       "</style>\n",
       "<table border=\"1\" class=\"dataframe\">\n",
       "  <thead>\n",
       "    <tr style=\"text-align: right;\">\n",
       "      <th></th>\n",
       "      <th>Country</th>\n",
       "      <th>ISO_a3</th>\n",
       "      <th>Year</th>\n",
       "      <th>WRI</th>\n",
       "      <th>Exposure</th>\n",
       "      <th>Vulnerability</th>\n",
       "      <th>Susceptibility</th>\n",
       "      <th>Lack of Coping Capacities</th>\n",
       "      <th>Lack of Adaptive Capacities</th>\n",
       "      <th>WRI Category</th>\n",
       "      <th>Exposure Category</th>\n",
       "      <th>Vulnerability Category</th>\n",
       "      <th>Susceptibility Category</th>\n",
       "    </tr>\n",
       "  </thead>\n",
       "  <tbody>\n",
       "    <tr>\n",
       "      <th>0</th>\n",
       "      <td>Vanuatu</td>\n",
       "      <td>VUT</td>\n",
       "      <td>2011</td>\n",
       "      <td>32.00</td>\n",
       "      <td>56.33</td>\n",
       "      <td>56.81</td>\n",
       "      <td>37.14</td>\n",
       "      <td>79.34</td>\n",
       "      <td>53.96</td>\n",
       "      <td>Very High</td>\n",
       "      <td>Very High</td>\n",
       "      <td>High</td>\n",
       "      <td>High</td>\n",
       "    </tr>\n",
       "    <tr>\n",
       "      <th>1</th>\n",
       "      <td>Tonga</td>\n",
       "      <td>TON</td>\n",
       "      <td>2011</td>\n",
       "      <td>29.08</td>\n",
       "      <td>56.04</td>\n",
       "      <td>51.90</td>\n",
       "      <td>28.94</td>\n",
       "      <td>81.80</td>\n",
       "      <td>44.97</td>\n",
       "      <td>Very High</td>\n",
       "      <td>Very High</td>\n",
       "      <td>Medium</td>\n",
       "      <td>Medium</td>\n",
       "    </tr>\n",
       "    <tr>\n",
       "      <th>2</th>\n",
       "      <td>Philippines</td>\n",
       "      <td>PHL</td>\n",
       "      <td>2011</td>\n",
       "      <td>24.32</td>\n",
       "      <td>45.09</td>\n",
       "      <td>53.93</td>\n",
       "      <td>34.99</td>\n",
       "      <td>82.78</td>\n",
       "      <td>44.01</td>\n",
       "      <td>Very High</td>\n",
       "      <td>Very High</td>\n",
       "      <td>High</td>\n",
       "      <td>High</td>\n",
       "    </tr>\n",
       "    <tr>\n",
       "      <th>3</th>\n",
       "      <td>Solomon Islands</td>\n",
       "      <td>SLB</td>\n",
       "      <td>2011</td>\n",
       "      <td>23.51</td>\n",
       "      <td>36.40</td>\n",
       "      <td>64.60</td>\n",
       "      <td>44.11</td>\n",
       "      <td>85.95</td>\n",
       "      <td>63.74</td>\n",
       "      <td>Very High</td>\n",
       "      <td>Very High</td>\n",
       "      <td>Very High</td>\n",
       "      <td>High</td>\n",
       "    </tr>\n",
       "    <tr>\n",
       "      <th>4</th>\n",
       "      <td>Guatemala</td>\n",
       "      <td>GTM</td>\n",
       "      <td>2011</td>\n",
       "      <td>20.88</td>\n",
       "      <td>38.42</td>\n",
       "      <td>54.35</td>\n",
       "      <td>35.36</td>\n",
       "      <td>77.83</td>\n",
       "      <td>49.87</td>\n",
       "      <td>Very High</td>\n",
       "      <td>Very High</td>\n",
       "      <td>High</td>\n",
       "      <td>High</td>\n",
       "    </tr>\n",
       "  </tbody>\n",
       "</table>\n",
       "</div>"
      ],
      "text/plain": [
       "           Country ISO_a3  Year    WRI  Exposure  Vulnerability  \\\n",
       "0          Vanuatu    VUT  2011  32.00     56.33          56.81   \n",
       "1            Tonga    TON  2011  29.08     56.04          51.90   \n",
       "2      Philippines    PHL  2011  24.32     45.09          53.93   \n",
       "3  Solomon Islands    SLB  2011  23.51     36.40          64.60   \n",
       "4        Guatemala    GTM  2011  20.88     38.42          54.35   \n",
       "\n",
       "   Susceptibility  Lack of Coping Capacities  Lack of Adaptive Capacities  \\\n",
       "0           37.14                      79.34                        53.96   \n",
       "1           28.94                      81.80                        44.97   \n",
       "2           34.99                      82.78                        44.01   \n",
       "3           44.11                      85.95                        63.74   \n",
       "4           35.36                      77.83                        49.87   \n",
       "\n",
       "  WRI Category Exposure Category Vulnerability Category  \\\n",
       "0    Very High         Very High                   High   \n",
       "1    Very High         Very High                 Medium   \n",
       "2    Very High         Very High                   High   \n",
       "3    Very High         Very High              Very High   \n",
       "4    Very High         Very High                   High   \n",
       "\n",
       "  Susceptibility Category  \n",
       "0                    High  \n",
       "1                  Medium  \n",
       "2                    High  \n",
       "3                    High  \n",
       "4                    High  "
      ]
     },
     "execution_count": 5,
     "metadata": {},
     "output_type": "execute_result"
    }
   ],
   "source": [
    "# Check a sample\n",
    "df_wri.head()"
   ]
  },
  {
   "cell_type": "markdown",
   "id": "feadf8aa",
   "metadata": {},
   "source": [
    "#### Convert values"
   ]
  },
  {
   "cell_type": "code",
   "execution_count": 6,
   "id": "edab234e",
   "metadata": {},
   "outputs": [],
   "source": [
    "# Define mapping dictionary\n",
    "mapping = {'Very High': 5, 'High': 4, 'Medium': 3, 'Low': 2, 'Very Low': 1}\n",
    "\n",
    "# Map categorical values to ordinals\n",
    "df_wri = df_wri.replace(mapping)"
   ]
  },
  {
   "cell_type": "code",
   "execution_count": 7,
   "id": "a5273887",
   "metadata": {
    "scrolled": false
   },
   "outputs": [
    {
     "data": {
      "text/html": [
       "<div>\n",
       "<style scoped>\n",
       "    .dataframe tbody tr th:only-of-type {\n",
       "        vertical-align: middle;\n",
       "    }\n",
       "\n",
       "    .dataframe tbody tr th {\n",
       "        vertical-align: top;\n",
       "    }\n",
       "\n",
       "    .dataframe thead th {\n",
       "        text-align: right;\n",
       "    }\n",
       "</style>\n",
       "<table border=\"1\" class=\"dataframe\">\n",
       "  <thead>\n",
       "    <tr style=\"text-align: right;\">\n",
       "      <th></th>\n",
       "      <th>Country</th>\n",
       "      <th>ISO_a3</th>\n",
       "      <th>Year</th>\n",
       "      <th>WRI</th>\n",
       "      <th>Exposure</th>\n",
       "      <th>Vulnerability</th>\n",
       "      <th>Susceptibility</th>\n",
       "      <th>Lack of Coping Capacities</th>\n",
       "      <th>Lack of Adaptive Capacities</th>\n",
       "      <th>WRI Category</th>\n",
       "      <th>Exposure Category</th>\n",
       "      <th>Vulnerability Category</th>\n",
       "      <th>Susceptibility Category</th>\n",
       "    </tr>\n",
       "  </thead>\n",
       "  <tbody>\n",
       "    <tr>\n",
       "      <th>0</th>\n",
       "      <td>Vanuatu</td>\n",
       "      <td>VUT</td>\n",
       "      <td>2011</td>\n",
       "      <td>32.00</td>\n",
       "      <td>56.33</td>\n",
       "      <td>56.81</td>\n",
       "      <td>37.14</td>\n",
       "      <td>79.34</td>\n",
       "      <td>53.96</td>\n",
       "      <td>5</td>\n",
       "      <td>5</td>\n",
       "      <td>4</td>\n",
       "      <td>4</td>\n",
       "    </tr>\n",
       "    <tr>\n",
       "      <th>1</th>\n",
       "      <td>Tonga</td>\n",
       "      <td>TON</td>\n",
       "      <td>2011</td>\n",
       "      <td>29.08</td>\n",
       "      <td>56.04</td>\n",
       "      <td>51.90</td>\n",
       "      <td>28.94</td>\n",
       "      <td>81.80</td>\n",
       "      <td>44.97</td>\n",
       "      <td>5</td>\n",
       "      <td>5</td>\n",
       "      <td>3</td>\n",
       "      <td>3</td>\n",
       "    </tr>\n",
       "    <tr>\n",
       "      <th>2</th>\n",
       "      <td>Philippines</td>\n",
       "      <td>PHL</td>\n",
       "      <td>2011</td>\n",
       "      <td>24.32</td>\n",
       "      <td>45.09</td>\n",
       "      <td>53.93</td>\n",
       "      <td>34.99</td>\n",
       "      <td>82.78</td>\n",
       "      <td>44.01</td>\n",
       "      <td>5</td>\n",
       "      <td>5</td>\n",
       "      <td>4</td>\n",
       "      <td>4</td>\n",
       "    </tr>\n",
       "    <tr>\n",
       "      <th>3</th>\n",
       "      <td>Solomon Islands</td>\n",
       "      <td>SLB</td>\n",
       "      <td>2011</td>\n",
       "      <td>23.51</td>\n",
       "      <td>36.40</td>\n",
       "      <td>64.60</td>\n",
       "      <td>44.11</td>\n",
       "      <td>85.95</td>\n",
       "      <td>63.74</td>\n",
       "      <td>5</td>\n",
       "      <td>5</td>\n",
       "      <td>5</td>\n",
       "      <td>4</td>\n",
       "    </tr>\n",
       "    <tr>\n",
       "      <th>4</th>\n",
       "      <td>Guatemala</td>\n",
       "      <td>GTM</td>\n",
       "      <td>2011</td>\n",
       "      <td>20.88</td>\n",
       "      <td>38.42</td>\n",
       "      <td>54.35</td>\n",
       "      <td>35.36</td>\n",
       "      <td>77.83</td>\n",
       "      <td>49.87</td>\n",
       "      <td>5</td>\n",
       "      <td>5</td>\n",
       "      <td>4</td>\n",
       "      <td>4</td>\n",
       "    </tr>\n",
       "  </tbody>\n",
       "</table>\n",
       "</div>"
      ],
      "text/plain": [
       "           Country ISO_a3  Year    WRI  Exposure  Vulnerability  \\\n",
       "0          Vanuatu    VUT  2011  32.00     56.33          56.81   \n",
       "1            Tonga    TON  2011  29.08     56.04          51.90   \n",
       "2      Philippines    PHL  2011  24.32     45.09          53.93   \n",
       "3  Solomon Islands    SLB  2011  23.51     36.40          64.60   \n",
       "4        Guatemala    GTM  2011  20.88     38.42          54.35   \n",
       "\n",
       "   Susceptibility  Lack of Coping Capacities  Lack of Adaptive Capacities  \\\n",
       "0           37.14                      79.34                        53.96   \n",
       "1           28.94                      81.80                        44.97   \n",
       "2           34.99                      82.78                        44.01   \n",
       "3           44.11                      85.95                        63.74   \n",
       "4           35.36                      77.83                        49.87   \n",
       "\n",
       "   WRI Category  Exposure Category  Vulnerability Category  \\\n",
       "0             5                  5                       4   \n",
       "1             5                  5                       3   \n",
       "2             5                  5                       4   \n",
       "3             5                  5                       5   \n",
       "4             5                  5                       4   \n",
       "\n",
       "   Susceptibility Category  \n",
       "0                        4  \n",
       "1                        3  \n",
       "2                        4  \n",
       "3                        4  \n",
       "4                        4  "
      ]
     },
     "execution_count": 7,
     "metadata": {},
     "output_type": "execute_result"
    }
   ],
   "source": [
    "# Check a sample\n",
    "df_wri.head()"
   ]
  },
  {
   "cell_type": "markdown",
   "id": "570f0a11",
   "metadata": {},
   "source": [
    "#### Export data"
   ]
  },
  {
   "cell_type": "code",
   "execution_count": 8,
   "id": "a1045e05",
   "metadata": {},
   "outputs": [
    {
     "data": {
      "text/plain": [
       "(1917, 13)"
      ]
     },
     "execution_count": 8,
     "metadata": {},
     "output_type": "execute_result"
    }
   ],
   "source": [
    "# Confirm the shape of the dataset\n",
    "df_wri.shape"
   ]
  },
  {
   "cell_type": "code",
   "execution_count": 9,
   "id": "6587c5aa",
   "metadata": {},
   "outputs": [],
   "source": [
    "# Export df_wri as \"WRI_tableau.csv\"\n",
    "df_wri.to_csv(os.path.join(path, '02_Data', 'Prepared_data', 'WRI_tableau.csv'), index = False)"
   ]
  },
  {
   "cell_type": "markdown",
   "id": "23df1d0b",
   "metadata": {},
   "source": [
    "# 3. Clustering"
   ]
  },
  {
   "cell_type": "code",
   "execution_count": 10,
   "id": "2aea3063",
   "metadata": {},
   "outputs": [],
   "source": [
    "# Create a new dataframe with numerical variables only\n",
    "df_num = df_wri[\n",
    "    ['WRI', 'Exposure', 'Vulnerability', \n",
    "    'Susceptibility', 'Lack of Coping Capacities', 'Lack of Adaptive Capacities']\n",
    "].copy()"
   ]
  },
  {
   "cell_type": "code",
   "execution_count": 11,
   "id": "5311702e",
   "metadata": {},
   "outputs": [],
   "source": [
    "# Create the k-means object\n",
    "kmeans = KMeans(n_clusters=3)"
   ]
  },
  {
   "cell_type": "code",
   "execution_count": 12,
   "id": "af56afc6",
   "metadata": {},
   "outputs": [
    {
     "name": "stderr",
     "output_type": "stream",
     "text": [
      "/Users/sarahtischer/anaconda3/lib/python3.11/site-packages/sklearn/cluster/_kmeans.py:1412: FutureWarning: The default value of `n_init` will change from 10 to 'auto' in 1.4. Set the value of `n_init` explicitly to suppress the warning\n",
      "  super()._check_params_vs_input(X, default_n_init=10)\n"
     ]
    },
    {
     "data": {
      "text/html": [
       "<style>#sk-container-id-1 {color: black;}#sk-container-id-1 pre{padding: 0;}#sk-container-id-1 div.sk-toggleable {background-color: white;}#sk-container-id-1 label.sk-toggleable__label {cursor: pointer;display: block;width: 100%;margin-bottom: 0;padding: 0.3em;box-sizing: border-box;text-align: center;}#sk-container-id-1 label.sk-toggleable__label-arrow:before {content: \"▸\";float: left;margin-right: 0.25em;color: #696969;}#sk-container-id-1 label.sk-toggleable__label-arrow:hover:before {color: black;}#sk-container-id-1 div.sk-estimator:hover label.sk-toggleable__label-arrow:before {color: black;}#sk-container-id-1 div.sk-toggleable__content {max-height: 0;max-width: 0;overflow: hidden;text-align: left;background-color: #f0f8ff;}#sk-container-id-1 div.sk-toggleable__content pre {margin: 0.2em;color: black;border-radius: 0.25em;background-color: #f0f8ff;}#sk-container-id-1 input.sk-toggleable__control:checked~div.sk-toggleable__content {max-height: 200px;max-width: 100%;overflow: auto;}#sk-container-id-1 input.sk-toggleable__control:checked~label.sk-toggleable__label-arrow:before {content: \"▾\";}#sk-container-id-1 div.sk-estimator input.sk-toggleable__control:checked~label.sk-toggleable__label {background-color: #d4ebff;}#sk-container-id-1 div.sk-label input.sk-toggleable__control:checked~label.sk-toggleable__label {background-color: #d4ebff;}#sk-container-id-1 input.sk-hidden--visually {border: 0;clip: rect(1px 1px 1px 1px);clip: rect(1px, 1px, 1px, 1px);height: 1px;margin: -1px;overflow: hidden;padding: 0;position: absolute;width: 1px;}#sk-container-id-1 div.sk-estimator {font-family: monospace;background-color: #f0f8ff;border: 1px dotted black;border-radius: 0.25em;box-sizing: border-box;margin-bottom: 0.5em;}#sk-container-id-1 div.sk-estimator:hover {background-color: #d4ebff;}#sk-container-id-1 div.sk-parallel-item::after {content: \"\";width: 100%;border-bottom: 1px solid gray;flex-grow: 1;}#sk-container-id-1 div.sk-label:hover label.sk-toggleable__label {background-color: #d4ebff;}#sk-container-id-1 div.sk-serial::before {content: \"\";position: absolute;border-left: 1px solid gray;box-sizing: border-box;top: 0;bottom: 0;left: 50%;z-index: 0;}#sk-container-id-1 div.sk-serial {display: flex;flex-direction: column;align-items: center;background-color: white;padding-right: 0.2em;padding-left: 0.2em;position: relative;}#sk-container-id-1 div.sk-item {position: relative;z-index: 1;}#sk-container-id-1 div.sk-parallel {display: flex;align-items: stretch;justify-content: center;background-color: white;position: relative;}#sk-container-id-1 div.sk-item::before, #sk-container-id-1 div.sk-parallel-item::before {content: \"\";position: absolute;border-left: 1px solid gray;box-sizing: border-box;top: 0;bottom: 0;left: 50%;z-index: -1;}#sk-container-id-1 div.sk-parallel-item {display: flex;flex-direction: column;z-index: 1;position: relative;background-color: white;}#sk-container-id-1 div.sk-parallel-item:first-child::after {align-self: flex-end;width: 50%;}#sk-container-id-1 div.sk-parallel-item:last-child::after {align-self: flex-start;width: 50%;}#sk-container-id-1 div.sk-parallel-item:only-child::after {width: 0;}#sk-container-id-1 div.sk-dashed-wrapped {border: 1px dashed gray;margin: 0 0.4em 0.5em 0.4em;box-sizing: border-box;padding-bottom: 0.4em;background-color: white;}#sk-container-id-1 div.sk-label label {font-family: monospace;font-weight: bold;display: inline-block;line-height: 1.2em;}#sk-container-id-1 div.sk-label-container {text-align: center;}#sk-container-id-1 div.sk-container {/* jupyter's `normalize.less` sets `[hidden] { display: none; }` but bootstrap.min.css set `[hidden] { display: none !important; }` so we also need the `!important` here to be able to override the default hidden behavior on the sphinx rendered scikit-learn.org. See: https://github.com/scikit-learn/scikit-learn/issues/21755 */display: inline-block !important;position: relative;}#sk-container-id-1 div.sk-text-repr-fallback {display: none;}</style><div id=\"sk-container-id-1\" class=\"sk-top-container\"><div class=\"sk-text-repr-fallback\"><pre>KMeans(n_clusters=3)</pre><b>In a Jupyter environment, please rerun this cell to show the HTML representation or trust the notebook. <br />On GitHub, the HTML representation is unable to render, please try loading this page with nbviewer.org.</b></div><div class=\"sk-container\" hidden><div class=\"sk-item\"><div class=\"sk-estimator sk-toggleable\"><input class=\"sk-toggleable__control sk-hidden--visually\" id=\"sk-estimator-id-1\" type=\"checkbox\" checked><label for=\"sk-estimator-id-1\" class=\"sk-toggleable__label sk-toggleable__label-arrow\">KMeans</label><div class=\"sk-toggleable__content\"><pre>KMeans(n_clusters=3)</pre></div></div></div></div></div>"
      ],
      "text/plain": [
       "KMeans(n_clusters=3)"
      ]
     },
     "execution_count": 12,
     "metadata": {},
     "output_type": "execute_result"
    }
   ],
   "source": [
    "# Fit the k-means object to the data\n",
    "kmeans.fit(df_num)"
   ]
  },
  {
   "cell_type": "code",
   "execution_count": 13,
   "id": "54fd3307",
   "metadata": {},
   "outputs": [
    {
     "name": "stderr",
     "output_type": "stream",
     "text": [
      "/Users/sarahtischer/anaconda3/lib/python3.11/site-packages/sklearn/cluster/_kmeans.py:1412: FutureWarning: The default value of `n_init` will change from 10 to 'auto' in 1.4. Set the value of `n_init` explicitly to suppress the warning\n",
      "  super()._check_params_vs_input(X, default_n_init=10)\n"
     ]
    }
   ],
   "source": [
    "# Create column containing corresponding clusters\n",
    "df_wri['Clusters'] = kmeans.fit_predict(df_num)"
   ]
  },
  {
   "cell_type": "code",
   "execution_count": 14,
   "id": "5358a781",
   "metadata": {},
   "outputs": [
    {
     "data": {
      "text/html": [
       "<div>\n",
       "<style scoped>\n",
       "    .dataframe tbody tr th:only-of-type {\n",
       "        vertical-align: middle;\n",
       "    }\n",
       "\n",
       "    .dataframe tbody tr th {\n",
       "        vertical-align: top;\n",
       "    }\n",
       "\n",
       "    .dataframe thead th {\n",
       "        text-align: right;\n",
       "    }\n",
       "</style>\n",
       "<table border=\"1\" class=\"dataframe\">\n",
       "  <thead>\n",
       "    <tr style=\"text-align: right;\">\n",
       "      <th></th>\n",
       "      <th>Country</th>\n",
       "      <th>ISO_a3</th>\n",
       "      <th>Year</th>\n",
       "      <th>WRI</th>\n",
       "      <th>Exposure</th>\n",
       "      <th>Vulnerability</th>\n",
       "      <th>Susceptibility</th>\n",
       "      <th>Lack of Coping Capacities</th>\n",
       "      <th>Lack of Adaptive Capacities</th>\n",
       "      <th>WRI Category</th>\n",
       "      <th>Exposure Category</th>\n",
       "      <th>Vulnerability Category</th>\n",
       "      <th>Susceptibility Category</th>\n",
       "      <th>Clusters</th>\n",
       "    </tr>\n",
       "  </thead>\n",
       "  <tbody>\n",
       "    <tr>\n",
       "      <th>0</th>\n",
       "      <td>Vanuatu</td>\n",
       "      <td>VUT</td>\n",
       "      <td>2011</td>\n",
       "      <td>32.00</td>\n",
       "      <td>56.33</td>\n",
       "      <td>56.81</td>\n",
       "      <td>37.14</td>\n",
       "      <td>79.34</td>\n",
       "      <td>53.96</td>\n",
       "      <td>5</td>\n",
       "      <td>5</td>\n",
       "      <td>4</td>\n",
       "      <td>4</td>\n",
       "      <td>0</td>\n",
       "    </tr>\n",
       "    <tr>\n",
       "      <th>1</th>\n",
       "      <td>Tonga</td>\n",
       "      <td>TON</td>\n",
       "      <td>2011</td>\n",
       "      <td>29.08</td>\n",
       "      <td>56.04</td>\n",
       "      <td>51.90</td>\n",
       "      <td>28.94</td>\n",
       "      <td>81.80</td>\n",
       "      <td>44.97</td>\n",
       "      <td>5</td>\n",
       "      <td>5</td>\n",
       "      <td>3</td>\n",
       "      <td>3</td>\n",
       "      <td>0</td>\n",
       "    </tr>\n",
       "    <tr>\n",
       "      <th>2</th>\n",
       "      <td>Philippines</td>\n",
       "      <td>PHL</td>\n",
       "      <td>2011</td>\n",
       "      <td>24.32</td>\n",
       "      <td>45.09</td>\n",
       "      <td>53.93</td>\n",
       "      <td>34.99</td>\n",
       "      <td>82.78</td>\n",
       "      <td>44.01</td>\n",
       "      <td>5</td>\n",
       "      <td>5</td>\n",
       "      <td>4</td>\n",
       "      <td>4</td>\n",
       "      <td>0</td>\n",
       "    </tr>\n",
       "    <tr>\n",
       "      <th>3</th>\n",
       "      <td>Solomon Islands</td>\n",
       "      <td>SLB</td>\n",
       "      <td>2011</td>\n",
       "      <td>23.51</td>\n",
       "      <td>36.40</td>\n",
       "      <td>64.60</td>\n",
       "      <td>44.11</td>\n",
       "      <td>85.95</td>\n",
       "      <td>63.74</td>\n",
       "      <td>5</td>\n",
       "      <td>5</td>\n",
       "      <td>5</td>\n",
       "      <td>4</td>\n",
       "      <td>2</td>\n",
       "    </tr>\n",
       "    <tr>\n",
       "      <th>4</th>\n",
       "      <td>Guatemala</td>\n",
       "      <td>GTM</td>\n",
       "      <td>2011</td>\n",
       "      <td>20.88</td>\n",
       "      <td>38.42</td>\n",
       "      <td>54.35</td>\n",
       "      <td>35.36</td>\n",
       "      <td>77.83</td>\n",
       "      <td>49.87</td>\n",
       "      <td>5</td>\n",
       "      <td>5</td>\n",
       "      <td>4</td>\n",
       "      <td>4</td>\n",
       "      <td>0</td>\n",
       "    </tr>\n",
       "  </tbody>\n",
       "</table>\n",
       "</div>"
      ],
      "text/plain": [
       "           Country ISO_a3  Year    WRI  Exposure  Vulnerability  \\\n",
       "0          Vanuatu    VUT  2011  32.00     56.33          56.81   \n",
       "1            Tonga    TON  2011  29.08     56.04          51.90   \n",
       "2      Philippines    PHL  2011  24.32     45.09          53.93   \n",
       "3  Solomon Islands    SLB  2011  23.51     36.40          64.60   \n",
       "4        Guatemala    GTM  2011  20.88     38.42          54.35   \n",
       "\n",
       "   Susceptibility  Lack of Coping Capacities  Lack of Adaptive Capacities  \\\n",
       "0           37.14                      79.34                        53.96   \n",
       "1           28.94                      81.80                        44.97   \n",
       "2           34.99                      82.78                        44.01   \n",
       "3           44.11                      85.95                        63.74   \n",
       "4           35.36                      77.83                        49.87   \n",
       "\n",
       "   WRI Category  Exposure Category  Vulnerability Category  \\\n",
       "0             5                  5                       4   \n",
       "1             5                  5                       3   \n",
       "2             5                  5                       4   \n",
       "3             5                  5                       5   \n",
       "4             5                  5                       4   \n",
       "\n",
       "   Susceptibility Category  Clusters  \n",
       "0                        4         0  \n",
       "1                        3         0  \n",
       "2                        4         0  \n",
       "3                        4         2  \n",
       "4                        4         0  "
      ]
     },
     "execution_count": 14,
     "metadata": {},
     "output_type": "execute_result"
    }
   ],
   "source": [
    "# Check a sample\n",
    "df_wri.head()"
   ]
  },
  {
   "cell_type": "code",
   "execution_count": 15,
   "id": "013814f7",
   "metadata": {
    "scrolled": true
   },
   "outputs": [
    {
     "data": {
      "text/plain": [
       "Clusters\n",
       "0    785\n",
       "1    572\n",
       "2    560\n",
       "Name: count, dtype: int64"
      ]
     },
     "execution_count": 15,
     "metadata": {},
     "output_type": "execute_result"
    }
   ],
   "source": [
    "# Check the frequencies of the \"Clusters\" columns\n",
    "df_wri['Clusters'].value_counts()"
   ]
  },
  {
   "cell_type": "code",
   "execution_count": 16,
   "id": "9d3fe3c9",
   "metadata": {},
   "outputs": [
    {
     "data": {
      "text/plain": [
       "Country                        0\n",
       "ISO_a3                         0\n",
       "Year                           0\n",
       "WRI                            0\n",
       "Exposure                       0\n",
       "Vulnerability                  0\n",
       "Susceptibility                 0\n",
       "Lack of Coping Capacities      0\n",
       "Lack of Adaptive Capacities    0\n",
       "WRI Category                   0\n",
       "Exposure Category              0\n",
       "Vulnerability Category         0\n",
       "Susceptibility Category        0\n",
       "Clusters                       0\n",
       "dtype: int64"
      ]
     },
     "execution_count": 16,
     "metadata": {},
     "output_type": "execute_result"
    }
   ],
   "source": [
    "# Check for missing values\n",
    "df_wri.isnull().sum()"
   ]
  },
  {
   "cell_type": "markdown",
   "id": "c51a9126",
   "metadata": {},
   "source": [
    "#### Export data"
   ]
  },
  {
   "cell_type": "code",
   "execution_count": 17,
   "id": "97fb6702",
   "metadata": {},
   "outputs": [
    {
     "data": {
      "text/plain": [
       "(1917, 14)"
      ]
     },
     "execution_count": 17,
     "metadata": {},
     "output_type": "execute_result"
    }
   ],
   "source": [
    "# Confirm the shape of the dataset\n",
    "df_wri.shape"
   ]
  },
  {
   "cell_type": "code",
   "execution_count": 18,
   "id": "41d1362c",
   "metadata": {},
   "outputs": [],
   "source": [
    "# Export df_num as \"WRI_complete_clustered.csv\"\n",
    "df_wri.to_csv(os.path.join(path, '02_Data', 'Prepared_data', 'WRI_complete_clustered.csv'), index = False)"
   ]
  },
  {
   "cell_type": "markdown",
   "id": "ba333088",
   "metadata": {},
   "source": [
    "# 4. Creating correlation matrix"
   ]
  },
  {
   "cell_type": "markdown",
   "id": "cf0611d6",
   "metadata": {},
   "source": [
    "#### Create matrix"
   ]
  },
  {
   "cell_type": "code",
   "execution_count": 19,
   "id": "8a5fdd3f",
   "metadata": {},
   "outputs": [],
   "source": [
    "# Create a subset for continuous variables\n",
    "df_cont = df_wri[\n",
    "    ['WRI', 'Exposure', 'Vulnerability', 'Susceptibility',\n",
    "     'Lack of Coping Capacities', 'Lack of Adaptive Capacities']\n",
    "]"
   ]
  },
  {
   "cell_type": "code",
   "execution_count": 20,
   "id": "3da074b0",
   "metadata": {},
   "outputs": [
    {
     "data": {
      "text/html": [
       "<div>\n",
       "<style scoped>\n",
       "    .dataframe tbody tr th:only-of-type {\n",
       "        vertical-align: middle;\n",
       "    }\n",
       "\n",
       "    .dataframe tbody tr th {\n",
       "        vertical-align: top;\n",
       "    }\n",
       "\n",
       "    .dataframe thead th {\n",
       "        text-align: right;\n",
       "    }\n",
       "</style>\n",
       "<table border=\"1\" class=\"dataframe\">\n",
       "  <thead>\n",
       "    <tr style=\"text-align: right;\">\n",
       "      <th></th>\n",
       "      <th>WRI</th>\n",
       "      <th>Exposure</th>\n",
       "      <th>Vulnerability</th>\n",
       "      <th>Susceptibility</th>\n",
       "      <th>Lack of Coping Capacities</th>\n",
       "      <th>Lack of Adaptive Capacities</th>\n",
       "    </tr>\n",
       "  </thead>\n",
       "  <tbody>\n",
       "    <tr>\n",
       "      <th>WRI</th>\n",
       "      <td>1.000000</td>\n",
       "      <td>0.917488</td>\n",
       "      <td>0.445140</td>\n",
       "      <td>0.380923</td>\n",
       "      <td>0.458327</td>\n",
       "      <td>0.413403</td>\n",
       "    </tr>\n",
       "    <tr>\n",
       "      <th>Exposure</th>\n",
       "      <td>0.917488</td>\n",
       "      <td>1.000000</td>\n",
       "      <td>0.106925</td>\n",
       "      <td>0.065290</td>\n",
       "      <td>0.147847</td>\n",
       "      <td>0.087742</td>\n",
       "    </tr>\n",
       "    <tr>\n",
       "      <th>Vulnerability</th>\n",
       "      <td>0.445140</td>\n",
       "      <td>0.106925</td>\n",
       "      <td>1.000000</td>\n",
       "      <td>0.935944</td>\n",
       "      <td>0.930961</td>\n",
       "      <td>0.945379</td>\n",
       "    </tr>\n",
       "    <tr>\n",
       "      <th>Susceptibility</th>\n",
       "      <td>0.380923</td>\n",
       "      <td>0.065290</td>\n",
       "      <td>0.935944</td>\n",
       "      <td>1.000000</td>\n",
       "      <td>0.784190</td>\n",
       "      <td>0.838044</td>\n",
       "    </tr>\n",
       "    <tr>\n",
       "      <th>Lack of Coping Capacities</th>\n",
       "      <td>0.458327</td>\n",
       "      <td>0.147847</td>\n",
       "      <td>0.930961</td>\n",
       "      <td>0.784190</td>\n",
       "      <td>1.000000</td>\n",
       "      <td>0.833058</td>\n",
       "    </tr>\n",
       "    <tr>\n",
       "      <th>Lack of Adaptive Capacities</th>\n",
       "      <td>0.413403</td>\n",
       "      <td>0.087742</td>\n",
       "      <td>0.945379</td>\n",
       "      <td>0.838044</td>\n",
       "      <td>0.833058</td>\n",
       "      <td>1.000000</td>\n",
       "    </tr>\n",
       "  </tbody>\n",
       "</table>\n",
       "</div>"
      ],
      "text/plain": [
       "                                  WRI  Exposure  Vulnerability  \\\n",
       "WRI                          1.000000  0.917488       0.445140   \n",
       "Exposure                     0.917488  1.000000       0.106925   \n",
       "Vulnerability                0.445140  0.106925       1.000000   \n",
       "Susceptibility               0.380923  0.065290       0.935944   \n",
       "Lack of Coping Capacities    0.458327  0.147847       0.930961   \n",
       "Lack of Adaptive Capacities  0.413403  0.087742       0.945379   \n",
       "\n",
       "                             Susceptibility  Lack of Coping Capacities  \\\n",
       "WRI                                0.380923                   0.458327   \n",
       "Exposure                           0.065290                   0.147847   \n",
       "Vulnerability                      0.935944                   0.930961   \n",
       "Susceptibility                     1.000000                   0.784190   \n",
       "Lack of Coping Capacities          0.784190                   1.000000   \n",
       "Lack of Adaptive Capacities        0.838044                   0.833058   \n",
       "\n",
       "                             Lack of Adaptive Capacities  \n",
       "WRI                                             0.413403  \n",
       "Exposure                                        0.087742  \n",
       "Vulnerability                                   0.945379  \n",
       "Susceptibility                                  0.838044  \n",
       "Lack of Coping Capacities                       0.833058  \n",
       "Lack of Adaptive Capacities                     1.000000  "
      ]
     },
     "execution_count": 20,
     "metadata": {},
     "output_type": "execute_result"
    }
   ],
   "source": [
    "# Create a correlation matrix\n",
    "df_matrix = df_cont.corr()\n",
    "\n",
    "df_matrix"
   ]
  },
  {
   "cell_type": "markdown",
   "id": "1534214e",
   "metadata": {},
   "source": [
    "#### Export data"
   ]
  },
  {
   "cell_type": "code",
   "execution_count": 21,
   "id": "ac015b96",
   "metadata": {},
   "outputs": [
    {
     "data": {
      "text/plain": [
       "(6, 6)"
      ]
     },
     "execution_count": 21,
     "metadata": {},
     "output_type": "execute_result"
    }
   ],
   "source": [
    "# Confirm the shape of the dataset\n",
    "df_matrix.shape"
   ]
  },
  {
   "cell_type": "code",
   "execution_count": 22,
   "id": "847fc540",
   "metadata": {},
   "outputs": [],
   "source": [
    "# Export df_matrix as \"WRI_matrix.csv\"\n",
    "df_matrix.to_csv(os.path.join(path, '02_Data', 'Prepared_data', 'WRI_matrix.csv'))"
   ]
  },
  {
   "cell_type": "markdown",
   "id": "1f239ca9",
   "metadata": {},
   "source": [
    "# 5. Merging temperature dataframes"
   ]
  },
  {
   "cell_type": "markdown",
   "id": "fc4eeea7",
   "metadata": {},
   "source": [
    "#### Import data"
   ]
  },
  {
   "cell_type": "code",
   "execution_count": 23,
   "id": "9204a3f2",
   "metadata": {},
   "outputs": [],
   "source": [
    "# Import \"temp_anomalies_smoothed.csv\"\n",
    "df_temp_1 = pd.read_csv(os.path.join(path, '02_Data', 'Prepared_data', 'temp_anomalies_prepared.csv'))"
   ]
  },
  {
   "cell_type": "code",
   "execution_count": 24,
   "id": "5640d65c",
   "metadata": {},
   "outputs": [
    {
     "data": {
      "text/plain": [
       "(278, 2)"
      ]
     },
     "execution_count": 24,
     "metadata": {},
     "output_type": "execute_result"
    }
   ],
   "source": [
    "# Confirm the shape of the dataset\n",
    "df_temp_1.shape"
   ]
  },
  {
   "cell_type": "code",
   "execution_count": 25,
   "id": "c72f8783",
   "metadata": {},
   "outputs": [
    {
     "data": {
      "text/html": [
       "<div>\n",
       "<style scoped>\n",
       "    .dataframe tbody tr th:only-of-type {\n",
       "        vertical-align: middle;\n",
       "    }\n",
       "\n",
       "    .dataframe tbody tr th {\n",
       "        vertical-align: top;\n",
       "    }\n",
       "\n",
       "    .dataframe thead th {\n",
       "        text-align: right;\n",
       "    }\n",
       "</style>\n",
       "<table border=\"1\" class=\"dataframe\">\n",
       "  <thead>\n",
       "    <tr style=\"text-align: right;\">\n",
       "      <th></th>\n",
       "      <th>Date</th>\n",
       "      <th>Anomaly</th>\n",
       "    </tr>\n",
       "  </thead>\n",
       "  <tbody>\n",
       "    <tr>\n",
       "      <th>0</th>\n",
       "      <td>2001-01-01</td>\n",
       "      <td>0.45</td>\n",
       "    </tr>\n",
       "    <tr>\n",
       "      <th>1</th>\n",
       "      <td>2001-02-01</td>\n",
       "      <td>0.43</td>\n",
       "    </tr>\n",
       "    <tr>\n",
       "      <th>2</th>\n",
       "      <td>2001-03-01</td>\n",
       "      <td>0.55</td>\n",
       "    </tr>\n",
       "    <tr>\n",
       "      <th>3</th>\n",
       "      <td>2001-04-01</td>\n",
       "      <td>0.53</td>\n",
       "    </tr>\n",
       "    <tr>\n",
       "      <th>4</th>\n",
       "      <td>2001-05-01</td>\n",
       "      <td>0.57</td>\n",
       "    </tr>\n",
       "  </tbody>\n",
       "</table>\n",
       "</div>"
      ],
      "text/plain": [
       "         Date  Anomaly\n",
       "0  2001-01-01     0.45\n",
       "1  2001-02-01     0.43\n",
       "2  2001-03-01     0.55\n",
       "3  2001-04-01     0.53\n",
       "4  2001-05-01     0.57"
      ]
     },
     "execution_count": 25,
     "metadata": {},
     "output_type": "execute_result"
    }
   ],
   "source": [
    "# Check a sample\n",
    "df_temp_1.head()"
   ]
  },
  {
   "cell_type": "code",
   "execution_count": 26,
   "id": "ad7bbc69",
   "metadata": {},
   "outputs": [],
   "source": [
    "# Import \"temp_anomalies_smoothed.csv\"\n",
    "df_temp_2 = pd.read_csv(os.path.join(path, '02_Data', 'Prepared_data', 'temp_anomalies_smoothed.csv'))"
   ]
  },
  {
   "cell_type": "code",
   "execution_count": 27,
   "id": "586926a9",
   "metadata": {},
   "outputs": [
    {
     "data": {
      "text/plain": [
       "(278, 2)"
      ]
     },
     "execution_count": 27,
     "metadata": {},
     "output_type": "execute_result"
    }
   ],
   "source": [
    "# Confirm the shape of the dataset\n",
    "df_temp_2.shape"
   ]
  },
  {
   "cell_type": "code",
   "execution_count": 28,
   "id": "4439b344",
   "metadata": {},
   "outputs": [
    {
     "data": {
      "text/html": [
       "<div>\n",
       "<style scoped>\n",
       "    .dataframe tbody tr th:only-of-type {\n",
       "        vertical-align: middle;\n",
       "    }\n",
       "\n",
       "    .dataframe tbody tr th {\n",
       "        vertical-align: top;\n",
       "    }\n",
       "\n",
       "    .dataframe thead th {\n",
       "        text-align: right;\n",
       "    }\n",
       "</style>\n",
       "<table border=\"1\" class=\"dataframe\">\n",
       "  <thead>\n",
       "    <tr style=\"text-align: right;\">\n",
       "      <th></th>\n",
       "      <th>Date</th>\n",
       "      <th>Anomaly Moving Average</th>\n",
       "    </tr>\n",
       "  </thead>\n",
       "  <tbody>\n",
       "    <tr>\n",
       "      <th>0</th>\n",
       "      <td>2001-01-01</td>\n",
       "      <td>0.450000</td>\n",
       "    </tr>\n",
       "    <tr>\n",
       "      <th>1</th>\n",
       "      <td>2001-02-01</td>\n",
       "      <td>0.440000</td>\n",
       "    </tr>\n",
       "    <tr>\n",
       "      <th>2</th>\n",
       "      <td>2001-03-01</td>\n",
       "      <td>0.476667</td>\n",
       "    </tr>\n",
       "    <tr>\n",
       "      <th>3</th>\n",
       "      <td>2001-04-01</td>\n",
       "      <td>0.490000</td>\n",
       "    </tr>\n",
       "    <tr>\n",
       "      <th>4</th>\n",
       "      <td>2001-05-01</td>\n",
       "      <td>0.506000</td>\n",
       "    </tr>\n",
       "  </tbody>\n",
       "</table>\n",
       "</div>"
      ],
      "text/plain": [
       "         Date  Anomaly Moving Average\n",
       "0  2001-01-01                0.450000\n",
       "1  2001-02-01                0.440000\n",
       "2  2001-03-01                0.476667\n",
       "3  2001-04-01                0.490000\n",
       "4  2001-05-01                0.506000"
      ]
     },
     "execution_count": 28,
     "metadata": {},
     "output_type": "execute_result"
    }
   ],
   "source": [
    "# Check a sample\n",
    "df_temp_2.head()"
   ]
  },
  {
   "cell_type": "markdown",
   "id": "ff298e3c",
   "metadata": {},
   "source": [
    "#### Change data types"
   ]
  },
  {
   "cell_type": "code",
   "execution_count": 29,
   "id": "aa016434",
   "metadata": {},
   "outputs": [],
   "source": [
    "# Convert 'Date' column to datetime format\n",
    "df_temp_1['Date'] = pd.to_datetime(df_temp_1['Date'])"
   ]
  },
  {
   "cell_type": "code",
   "execution_count": 30,
   "id": "97d51090",
   "metadata": {},
   "outputs": [
    {
     "data": {
      "text/html": [
       "<div>\n",
       "<style scoped>\n",
       "    .dataframe tbody tr th:only-of-type {\n",
       "        vertical-align: middle;\n",
       "    }\n",
       "\n",
       "    .dataframe tbody tr th {\n",
       "        vertical-align: top;\n",
       "    }\n",
       "\n",
       "    .dataframe thead th {\n",
       "        text-align: right;\n",
       "    }\n",
       "</style>\n",
       "<table border=\"1\" class=\"dataframe\">\n",
       "  <thead>\n",
       "    <tr style=\"text-align: right;\">\n",
       "      <th></th>\n",
       "      <th>Date</th>\n",
       "      <th>Anomaly</th>\n",
       "    </tr>\n",
       "  </thead>\n",
       "  <tbody>\n",
       "    <tr>\n",
       "      <th>0</th>\n",
       "      <td>2001-01-01</td>\n",
       "      <td>0.45</td>\n",
       "    </tr>\n",
       "    <tr>\n",
       "      <th>1</th>\n",
       "      <td>2001-02-01</td>\n",
       "      <td>0.43</td>\n",
       "    </tr>\n",
       "    <tr>\n",
       "      <th>2</th>\n",
       "      <td>2001-03-01</td>\n",
       "      <td>0.55</td>\n",
       "    </tr>\n",
       "    <tr>\n",
       "      <th>3</th>\n",
       "      <td>2001-04-01</td>\n",
       "      <td>0.53</td>\n",
       "    </tr>\n",
       "    <tr>\n",
       "      <th>4</th>\n",
       "      <td>2001-05-01</td>\n",
       "      <td>0.57</td>\n",
       "    </tr>\n",
       "  </tbody>\n",
       "</table>\n",
       "</div>"
      ],
      "text/plain": [
       "        Date  Anomaly\n",
       "0 2001-01-01     0.45\n",
       "1 2001-02-01     0.43\n",
       "2 2001-03-01     0.55\n",
       "3 2001-04-01     0.53\n",
       "4 2001-05-01     0.57"
      ]
     },
     "execution_count": 30,
     "metadata": {},
     "output_type": "execute_result"
    }
   ],
   "source": [
    "# Check a sample\n",
    "df_temp_1.head()"
   ]
  },
  {
   "cell_type": "code",
   "execution_count": 31,
   "id": "ce055e8c",
   "metadata": {},
   "outputs": [
    {
     "name": "stdout",
     "output_type": "stream",
     "text": [
      "<class 'pandas.core.frame.DataFrame'>\n",
      "RangeIndex: 278 entries, 0 to 277\n",
      "Data columns (total 2 columns):\n",
      " #   Column   Non-Null Count  Dtype         \n",
      "---  ------   --------------  -----         \n",
      " 0   Date     278 non-null    datetime64[ns]\n",
      " 1   Anomaly  278 non-null    float64       \n",
      "dtypes: datetime64[ns](1), float64(1)\n",
      "memory usage: 4.5 KB\n"
     ]
    }
   ],
   "source": [
    "# Check metadata\n",
    "df_temp_1.info()"
   ]
  },
  {
   "cell_type": "code",
   "execution_count": 32,
   "id": "faef91f5",
   "metadata": {},
   "outputs": [],
   "source": [
    "# Convert 'Date' column to datetime format\n",
    "df_temp_2['Date'] = pd.to_datetime(df_temp_2['Date'])"
   ]
  },
  {
   "cell_type": "code",
   "execution_count": 33,
   "id": "61ffa1c5",
   "metadata": {
    "scrolled": false
   },
   "outputs": [
    {
     "data": {
      "text/html": [
       "<div>\n",
       "<style scoped>\n",
       "    .dataframe tbody tr th:only-of-type {\n",
       "        vertical-align: middle;\n",
       "    }\n",
       "\n",
       "    .dataframe tbody tr th {\n",
       "        vertical-align: top;\n",
       "    }\n",
       "\n",
       "    .dataframe thead th {\n",
       "        text-align: right;\n",
       "    }\n",
       "</style>\n",
       "<table border=\"1\" class=\"dataframe\">\n",
       "  <thead>\n",
       "    <tr style=\"text-align: right;\">\n",
       "      <th></th>\n",
       "      <th>Date</th>\n",
       "      <th>Anomaly Moving Average</th>\n",
       "    </tr>\n",
       "  </thead>\n",
       "  <tbody>\n",
       "    <tr>\n",
       "      <th>0</th>\n",
       "      <td>2001-01-01</td>\n",
       "      <td>0.450000</td>\n",
       "    </tr>\n",
       "    <tr>\n",
       "      <th>1</th>\n",
       "      <td>2001-02-01</td>\n",
       "      <td>0.440000</td>\n",
       "    </tr>\n",
       "    <tr>\n",
       "      <th>2</th>\n",
       "      <td>2001-03-01</td>\n",
       "      <td>0.476667</td>\n",
       "    </tr>\n",
       "    <tr>\n",
       "      <th>3</th>\n",
       "      <td>2001-04-01</td>\n",
       "      <td>0.490000</td>\n",
       "    </tr>\n",
       "    <tr>\n",
       "      <th>4</th>\n",
       "      <td>2001-05-01</td>\n",
       "      <td>0.506000</td>\n",
       "    </tr>\n",
       "  </tbody>\n",
       "</table>\n",
       "</div>"
      ],
      "text/plain": [
       "        Date  Anomaly Moving Average\n",
       "0 2001-01-01                0.450000\n",
       "1 2001-02-01                0.440000\n",
       "2 2001-03-01                0.476667\n",
       "3 2001-04-01                0.490000\n",
       "4 2001-05-01                0.506000"
      ]
     },
     "execution_count": 33,
     "metadata": {},
     "output_type": "execute_result"
    }
   ],
   "source": [
    "# Check a sample\n",
    "df_temp_2.head()"
   ]
  },
  {
   "cell_type": "code",
   "execution_count": 34,
   "id": "15618637",
   "metadata": {
    "scrolled": true
   },
   "outputs": [
    {
     "name": "stdout",
     "output_type": "stream",
     "text": [
      "<class 'pandas.core.frame.DataFrame'>\n",
      "RangeIndex: 278 entries, 0 to 277\n",
      "Data columns (total 2 columns):\n",
      " #   Column                  Non-Null Count  Dtype         \n",
      "---  ------                  --------------  -----         \n",
      " 0   Date                    278 non-null    datetime64[ns]\n",
      " 1   Anomaly Moving Average  278 non-null    float64       \n",
      "dtypes: datetime64[ns](1), float64(1)\n",
      "memory usage: 4.5 KB\n"
     ]
    }
   ],
   "source": [
    "# Check metadata\n",
    "df_temp_2.info()"
   ]
  },
  {
   "cell_type": "markdown",
   "id": "13cb9a2c",
   "metadata": {},
   "source": [
    "#### Merge dataframes"
   ]
  },
  {
   "cell_type": "code",
   "execution_count": 35,
   "id": "d03bf858",
   "metadata": {},
   "outputs": [],
   "source": [
    "# Merge the DataFrames on the 'Date' column\n",
    "temp_merged = pd.merge(df_temp_1, df_temp_2, on='Date', how='inner')"
   ]
  },
  {
   "cell_type": "code",
   "execution_count": 36,
   "id": "7cee559b",
   "metadata": {
    "scrolled": true
   },
   "outputs": [
    {
     "data": {
      "text/html": [
       "<div>\n",
       "<style scoped>\n",
       "    .dataframe tbody tr th:only-of-type {\n",
       "        vertical-align: middle;\n",
       "    }\n",
       "\n",
       "    .dataframe tbody tr th {\n",
       "        vertical-align: top;\n",
       "    }\n",
       "\n",
       "    .dataframe thead th {\n",
       "        text-align: right;\n",
       "    }\n",
       "</style>\n",
       "<table border=\"1\" class=\"dataframe\">\n",
       "  <thead>\n",
       "    <tr style=\"text-align: right;\">\n",
       "      <th></th>\n",
       "      <th>Date</th>\n",
       "      <th>Anomaly</th>\n",
       "      <th>Anomaly Moving Average</th>\n",
       "    </tr>\n",
       "  </thead>\n",
       "  <tbody>\n",
       "    <tr>\n",
       "      <th>0</th>\n",
       "      <td>2001-01-01</td>\n",
       "      <td>0.45</td>\n",
       "      <td>0.450000</td>\n",
       "    </tr>\n",
       "    <tr>\n",
       "      <th>1</th>\n",
       "      <td>2001-02-01</td>\n",
       "      <td>0.43</td>\n",
       "      <td>0.440000</td>\n",
       "    </tr>\n",
       "    <tr>\n",
       "      <th>2</th>\n",
       "      <td>2001-03-01</td>\n",
       "      <td>0.55</td>\n",
       "      <td>0.476667</td>\n",
       "    </tr>\n",
       "    <tr>\n",
       "      <th>3</th>\n",
       "      <td>2001-04-01</td>\n",
       "      <td>0.53</td>\n",
       "      <td>0.490000</td>\n",
       "    </tr>\n",
       "    <tr>\n",
       "      <th>4</th>\n",
       "      <td>2001-05-01</td>\n",
       "      <td>0.57</td>\n",
       "      <td>0.506000</td>\n",
       "    </tr>\n",
       "  </tbody>\n",
       "</table>\n",
       "</div>"
      ],
      "text/plain": [
       "        Date  Anomaly  Anomaly Moving Average\n",
       "0 2001-01-01     0.45                0.450000\n",
       "1 2001-02-01     0.43                0.440000\n",
       "2 2001-03-01     0.55                0.476667\n",
       "3 2001-04-01     0.53                0.490000\n",
       "4 2001-05-01     0.57                0.506000"
      ]
     },
     "execution_count": 36,
     "metadata": {},
     "output_type": "execute_result"
    }
   ],
   "source": [
    "# Check a sample\n",
    "temp_merged.head()"
   ]
  },
  {
   "cell_type": "markdown",
   "id": "f4baa88f",
   "metadata": {},
   "source": [
    "#### Export data"
   ]
  },
  {
   "cell_type": "code",
   "execution_count": 37,
   "id": "8b9ea0ca",
   "metadata": {},
   "outputs": [
    {
     "data": {
      "text/plain": [
       "(278, 3)"
      ]
     },
     "execution_count": 37,
     "metadata": {},
     "output_type": "execute_result"
    }
   ],
   "source": [
    "# Confirm the shape of the dataset\n",
    "temp_merged.shape"
   ]
  },
  {
   "cell_type": "code",
   "execution_count": 38,
   "id": "69a211b1",
   "metadata": {},
   "outputs": [],
   "source": [
    "# Export temp_merged as \"temp_anomalies_tableau.csv\"\n",
    "temp_merged.to_csv(os.path.join(path, '02_Data', 'Prepared_data', 'temp_anomalies_tableau.csv'), index = False)"
   ]
  },
  {
   "cell_type": "markdown",
   "id": "5b02bf43",
   "metadata": {},
   "source": [
    "# 6. Merging WRI & HDI dataframes"
   ]
  },
  {
   "cell_type": "markdown",
   "id": "30e2b611",
   "metadata": {},
   "source": [
    "#### Import data"
   ]
  },
  {
   "cell_type": "code",
   "execution_count": 39,
   "id": "e14d0dc4",
   "metadata": {},
   "outputs": [],
   "source": [
    "# Import \"HDI_prepared.csv\"\n",
    "df_hdi = pd.read_csv(os.path.join(path, '02_Data', 'Prepared_data', 'HDI_prepared.csv'), index_col = False)"
   ]
  },
  {
   "cell_type": "code",
   "execution_count": 40,
   "id": "fbb3554c",
   "metadata": {},
   "outputs": [
    {
     "data": {
      "text/plain": [
       "(206, 1076)"
      ]
     },
     "execution_count": 40,
     "metadata": {},
     "output_type": "execute_result"
    }
   ],
   "source": [
    "# Confirm the shape of the dataset\n",
    "df_hdi.shape"
   ]
  },
  {
   "cell_type": "code",
   "execution_count": 41,
   "id": "c2f4803e",
   "metadata": {
    "scrolled": true
   },
   "outputs": [
    {
     "data": {
      "text/html": [
       "<div>\n",
       "<style scoped>\n",
       "    .dataframe tbody tr th:only-of-type {\n",
       "        vertical-align: middle;\n",
       "    }\n",
       "\n",
       "    .dataframe tbody tr th {\n",
       "        vertical-align: top;\n",
       "    }\n",
       "\n",
       "    .dataframe thead th {\n",
       "        text-align: right;\n",
       "    }\n",
       "</style>\n",
       "<table border=\"1\" class=\"dataframe\">\n",
       "  <thead>\n",
       "    <tr style=\"text-align: right;\">\n",
       "      <th></th>\n",
       "      <th>iso3</th>\n",
       "      <th>country</th>\n",
       "      <th>hdicode</th>\n",
       "      <th>region</th>\n",
       "      <th>hdi_rank_2022</th>\n",
       "      <th>hdi_1990</th>\n",
       "      <th>hdi_1991</th>\n",
       "      <th>hdi_1992</th>\n",
       "      <th>hdi_1993</th>\n",
       "      <th>hdi_1994</th>\n",
       "      <th>...</th>\n",
       "      <th>pop_total_2013</th>\n",
       "      <th>pop_total_2014</th>\n",
       "      <th>pop_total_2015</th>\n",
       "      <th>pop_total_2016</th>\n",
       "      <th>pop_total_2017</th>\n",
       "      <th>pop_total_2018</th>\n",
       "      <th>pop_total_2019</th>\n",
       "      <th>pop_total_2020</th>\n",
       "      <th>pop_total_2021</th>\n",
       "      <th>pop_total_2022</th>\n",
       "    </tr>\n",
       "  </thead>\n",
       "  <tbody>\n",
       "    <tr>\n",
       "      <th>0</th>\n",
       "      <td>AFG</td>\n",
       "      <td>Afghanistan</td>\n",
       "      <td>Low</td>\n",
       "      <td>SA</td>\n",
       "      <td>182.0</td>\n",
       "      <td>0.284</td>\n",
       "      <td>0.292</td>\n",
       "      <td>0.299</td>\n",
       "      <td>0.307</td>\n",
       "      <td>0.300</td>\n",
       "      <td>...</td>\n",
       "      <td>31.541208</td>\n",
       "      <td>32.716210</td>\n",
       "      <td>33.753499</td>\n",
       "      <td>34.636207</td>\n",
       "      <td>35.643417</td>\n",
       "      <td>36.686784</td>\n",
       "      <td>37.769498</td>\n",
       "      <td>38.972231</td>\n",
       "      <td>40.099462</td>\n",
       "      <td>41.128771</td>\n",
       "    </tr>\n",
       "    <tr>\n",
       "      <th>1</th>\n",
       "      <td>ALB</td>\n",
       "      <td>Albania</td>\n",
       "      <td>High</td>\n",
       "      <td>ECA</td>\n",
       "      <td>74.0</td>\n",
       "      <td>0.649</td>\n",
       "      <td>0.632</td>\n",
       "      <td>0.616</td>\n",
       "      <td>0.618</td>\n",
       "      <td>0.623</td>\n",
       "      <td>...</td>\n",
       "      <td>2.887014</td>\n",
       "      <td>2.884102</td>\n",
       "      <td>2.882480</td>\n",
       "      <td>2.881063</td>\n",
       "      <td>2.879355</td>\n",
       "      <td>2.877013</td>\n",
       "      <td>2.873883</td>\n",
       "      <td>2.866849</td>\n",
       "      <td>2.854710</td>\n",
       "      <td>2.842321</td>\n",
       "    </tr>\n",
       "    <tr>\n",
       "      <th>2</th>\n",
       "      <td>DZA</td>\n",
       "      <td>Algeria</td>\n",
       "      <td>High</td>\n",
       "      <td>AS</td>\n",
       "      <td>93.0</td>\n",
       "      <td>0.593</td>\n",
       "      <td>0.596</td>\n",
       "      <td>0.601</td>\n",
       "      <td>0.602</td>\n",
       "      <td>0.603</td>\n",
       "      <td>...</td>\n",
       "      <td>38.000627</td>\n",
       "      <td>38.760168</td>\n",
       "      <td>39.543154</td>\n",
       "      <td>40.339329</td>\n",
       "      <td>41.136546</td>\n",
       "      <td>41.927007</td>\n",
       "      <td>42.705368</td>\n",
       "      <td>43.451666</td>\n",
       "      <td>44.177968</td>\n",
       "      <td>44.903225</td>\n",
       "    </tr>\n",
       "    <tr>\n",
       "      <th>3</th>\n",
       "      <td>AND</td>\n",
       "      <td>Andorra</td>\n",
       "      <td>Very High</td>\n",
       "      <td>NaN</td>\n",
       "      <td>35.0</td>\n",
       "      <td>NaN</td>\n",
       "      <td>NaN</td>\n",
       "      <td>NaN</td>\n",
       "      <td>NaN</td>\n",
       "      <td>NaN</td>\n",
       "      <td>...</td>\n",
       "      <td>0.071366</td>\n",
       "      <td>0.071622</td>\n",
       "      <td>0.071746</td>\n",
       "      <td>0.072540</td>\n",
       "      <td>0.073836</td>\n",
       "      <td>0.075013</td>\n",
       "      <td>0.076343</td>\n",
       "      <td>0.077700</td>\n",
       "      <td>0.079034</td>\n",
       "      <td>0.079824</td>\n",
       "    </tr>\n",
       "    <tr>\n",
       "      <th>4</th>\n",
       "      <td>AGO</td>\n",
       "      <td>Angola</td>\n",
       "      <td>Medium</td>\n",
       "      <td>SSA</td>\n",
       "      <td>150.0</td>\n",
       "      <td>NaN</td>\n",
       "      <td>NaN</td>\n",
       "      <td>NaN</td>\n",
       "      <td>NaN</td>\n",
       "      <td>NaN</td>\n",
       "      <td>...</td>\n",
       "      <td>26.147002</td>\n",
       "      <td>27.128336</td>\n",
       "      <td>28.127721</td>\n",
       "      <td>29.154746</td>\n",
       "      <td>30.208628</td>\n",
       "      <td>31.273533</td>\n",
       "      <td>32.353588</td>\n",
       "      <td>33.428486</td>\n",
       "      <td>34.503774</td>\n",
       "      <td>35.588987</td>\n",
       "    </tr>\n",
       "  </tbody>\n",
       "</table>\n",
       "<p>5 rows × 1076 columns</p>\n",
       "</div>"
      ],
      "text/plain": [
       "  iso3      country    hdicode region  hdi_rank_2022  hdi_1990  hdi_1991  \\\n",
       "0  AFG  Afghanistan        Low     SA          182.0     0.284     0.292   \n",
       "1  ALB      Albania       High    ECA           74.0     0.649     0.632   \n",
       "2  DZA      Algeria       High     AS           93.0     0.593     0.596   \n",
       "3  AND      Andorra  Very High    NaN           35.0       NaN       NaN   \n",
       "4  AGO       Angola     Medium    SSA          150.0       NaN       NaN   \n",
       "\n",
       "   hdi_1992  hdi_1993  hdi_1994  ...  pop_total_2013  pop_total_2014  \\\n",
       "0     0.299     0.307     0.300  ...       31.541208       32.716210   \n",
       "1     0.616     0.618     0.623  ...        2.887014        2.884102   \n",
       "2     0.601     0.602     0.603  ...       38.000627       38.760168   \n",
       "3       NaN       NaN       NaN  ...        0.071366        0.071622   \n",
       "4       NaN       NaN       NaN  ...       26.147002       27.128336   \n",
       "\n",
       "   pop_total_2015  pop_total_2016  pop_total_2017  pop_total_2018  \\\n",
       "0       33.753499       34.636207       35.643417       36.686784   \n",
       "1        2.882480        2.881063        2.879355        2.877013   \n",
       "2       39.543154       40.339329       41.136546       41.927007   \n",
       "3        0.071746        0.072540        0.073836        0.075013   \n",
       "4       28.127721       29.154746       30.208628       31.273533   \n",
       "\n",
       "   pop_total_2019  pop_total_2020  pop_total_2021  pop_total_2022  \n",
       "0       37.769498       38.972231       40.099462       41.128771  \n",
       "1        2.873883        2.866849        2.854710        2.842321  \n",
       "2       42.705368       43.451666       44.177968       44.903225  \n",
       "3        0.076343        0.077700        0.079034        0.079824  \n",
       "4       32.353588       33.428486       34.503774       35.588987  \n",
       "\n",
       "[5 rows x 1076 columns]"
      ]
     },
     "execution_count": 41,
     "metadata": {},
     "output_type": "execute_result"
    }
   ],
   "source": [
    "# Check a sample\n",
    "df_hdi.head()"
   ]
  },
  {
   "cell_type": "markdown",
   "id": "6f12161f",
   "metadata": {},
   "source": [
    "#### Merge dataframes"
   ]
  },
  {
   "cell_type": "code",
   "execution_count": 58,
   "id": "ed298a45",
   "metadata": {},
   "outputs": [],
   "source": [
    "# Convert the 'year' column in df_wri to string type\n",
    "df_wri['Year'] = df_wri['Year'].astype(str)\n",
    "\n",
    "# Define the columns to merge from df_hdi\n",
    "columns_to_merge = ['iso3'] + [f'hdi_{year}' for year in range(2011, 2022)]\n",
    "\n",
    "# Melt the df_hdi DataFrame to transpose HDI values into rows\n",
    "melted_hdi = df_hdi.melt(id_vars='iso3', value_vars=columns_to_merge[1:], var_name='year', value_name='HDI')\n",
    "\n",
    "# Extract the year from the 'year' column\n",
    "melted_hdi['year'] = melted_hdi['year'].str.split('_').str[-1]\n",
    "\n",
    "# Merge the melted_hdi DataFrame with df_wri based on 'iso3' and 'year'\n",
    "df_wri_hdi = pd.merge(df_wri, melted_hdi, left_on=['ISO_a3', 'Year'], right_on=['iso3', 'year'], how='inner')\n",
    "\n",
    "# Drop redundant 'iso3' column after merge\n",
    "df_wri_hdi.drop(columns=['iso3', 'year'], inplace=True)"
   ]
  },
  {
   "cell_type": "code",
   "execution_count": 59,
   "id": "913eec23",
   "metadata": {},
   "outputs": [
    {
     "data": {
      "text/plain": [
       "(1917, 15)"
      ]
     },
     "execution_count": 59,
     "metadata": {},
     "output_type": "execute_result"
    }
   ],
   "source": [
    "# Confirm the shape of the dataset\n",
    "df_wri_hdi.shape"
   ]
  },
  {
   "cell_type": "code",
   "execution_count": 60,
   "id": "d8e7638c",
   "metadata": {},
   "outputs": [
    {
     "data": {
      "text/html": [
       "<div>\n",
       "<style scoped>\n",
       "    .dataframe tbody tr th:only-of-type {\n",
       "        vertical-align: middle;\n",
       "    }\n",
       "\n",
       "    .dataframe tbody tr th {\n",
       "        vertical-align: top;\n",
       "    }\n",
       "\n",
       "    .dataframe thead th {\n",
       "        text-align: right;\n",
       "    }\n",
       "</style>\n",
       "<table border=\"1\" class=\"dataframe\">\n",
       "  <thead>\n",
       "    <tr style=\"text-align: right;\">\n",
       "      <th></th>\n",
       "      <th>Country</th>\n",
       "      <th>ISO_a3</th>\n",
       "      <th>Year</th>\n",
       "      <th>WRI</th>\n",
       "      <th>Exposure</th>\n",
       "      <th>Vulnerability</th>\n",
       "      <th>Susceptibility</th>\n",
       "      <th>Lack of Coping Capacities</th>\n",
       "      <th>Lack of Adaptive Capacities</th>\n",
       "      <th>WRI Category</th>\n",
       "      <th>Exposure Category</th>\n",
       "      <th>Vulnerability Category</th>\n",
       "      <th>Susceptibility Category</th>\n",
       "      <th>Clusters</th>\n",
       "      <th>HDI</th>\n",
       "    </tr>\n",
       "  </thead>\n",
       "  <tbody>\n",
       "    <tr>\n",
       "      <th>0</th>\n",
       "      <td>Vanuatu</td>\n",
       "      <td>VUT</td>\n",
       "      <td>2011</td>\n",
       "      <td>32.00</td>\n",
       "      <td>56.33</td>\n",
       "      <td>56.81</td>\n",
       "      <td>37.14</td>\n",
       "      <td>79.34</td>\n",
       "      <td>53.96</td>\n",
       "      <td>5</td>\n",
       "      <td>5</td>\n",
       "      <td>4</td>\n",
       "      <td>4</td>\n",
       "      <td>0</td>\n",
       "      <td>0.581</td>\n",
       "    </tr>\n",
       "    <tr>\n",
       "      <th>1</th>\n",
       "      <td>Tonga</td>\n",
       "      <td>TON</td>\n",
       "      <td>2011</td>\n",
       "      <td>29.08</td>\n",
       "      <td>56.04</td>\n",
       "      <td>51.90</td>\n",
       "      <td>28.94</td>\n",
       "      <td>81.80</td>\n",
       "      <td>44.97</td>\n",
       "      <td>5</td>\n",
       "      <td>5</td>\n",
       "      <td>3</td>\n",
       "      <td>3</td>\n",
       "      <td>0</td>\n",
       "      <td>0.716</td>\n",
       "    </tr>\n",
       "    <tr>\n",
       "      <th>2</th>\n",
       "      <td>Philippines</td>\n",
       "      <td>PHL</td>\n",
       "      <td>2011</td>\n",
       "      <td>24.32</td>\n",
       "      <td>45.09</td>\n",
       "      <td>53.93</td>\n",
       "      <td>34.99</td>\n",
       "      <td>82.78</td>\n",
       "      <td>44.01</td>\n",
       "      <td>5</td>\n",
       "      <td>5</td>\n",
       "      <td>4</td>\n",
       "      <td>4</td>\n",
       "      <td>0</td>\n",
       "      <td>0.677</td>\n",
       "    </tr>\n",
       "    <tr>\n",
       "      <th>3</th>\n",
       "      <td>Solomon Islands</td>\n",
       "      <td>SLB</td>\n",
       "      <td>2011</td>\n",
       "      <td>23.51</td>\n",
       "      <td>36.40</td>\n",
       "      <td>64.60</td>\n",
       "      <td>44.11</td>\n",
       "      <td>85.95</td>\n",
       "      <td>63.74</td>\n",
       "      <td>5</td>\n",
       "      <td>5</td>\n",
       "      <td>5</td>\n",
       "      <td>4</td>\n",
       "      <td>2</td>\n",
       "      <td>0.557</td>\n",
       "    </tr>\n",
       "    <tr>\n",
       "      <th>4</th>\n",
       "      <td>Guatemala</td>\n",
       "      <td>GTM</td>\n",
       "      <td>2011</td>\n",
       "      <td>20.88</td>\n",
       "      <td>38.42</td>\n",
       "      <td>54.35</td>\n",
       "      <td>35.36</td>\n",
       "      <td>77.83</td>\n",
       "      <td>49.87</td>\n",
       "      <td>5</td>\n",
       "      <td>5</td>\n",
       "      <td>4</td>\n",
       "      <td>4</td>\n",
       "      <td>0</td>\n",
       "      <td>0.617</td>\n",
       "    </tr>\n",
       "  </tbody>\n",
       "</table>\n",
       "</div>"
      ],
      "text/plain": [
       "           Country ISO_a3  Year    WRI  Exposure  Vulnerability  \\\n",
       "0          Vanuatu    VUT  2011  32.00     56.33          56.81   \n",
       "1            Tonga    TON  2011  29.08     56.04          51.90   \n",
       "2      Philippines    PHL  2011  24.32     45.09          53.93   \n",
       "3  Solomon Islands    SLB  2011  23.51     36.40          64.60   \n",
       "4        Guatemala    GTM  2011  20.88     38.42          54.35   \n",
       "\n",
       "   Susceptibility  Lack of Coping Capacities  Lack of Adaptive Capacities  \\\n",
       "0           37.14                      79.34                        53.96   \n",
       "1           28.94                      81.80                        44.97   \n",
       "2           34.99                      82.78                        44.01   \n",
       "3           44.11                      85.95                        63.74   \n",
       "4           35.36                      77.83                        49.87   \n",
       "\n",
       "   WRI Category  Exposure Category  Vulnerability Category  \\\n",
       "0             5                  5                       4   \n",
       "1             5                  5                       3   \n",
       "2             5                  5                       4   \n",
       "3             5                  5                       5   \n",
       "4             5                  5                       4   \n",
       "\n",
       "   Susceptibility Category  Clusters    HDI  \n",
       "0                        4         0  0.581  \n",
       "1                        3         0  0.716  \n",
       "2                        4         0  0.677  \n",
       "3                        4         2  0.557  \n",
       "4                        4         0  0.617  "
      ]
     },
     "execution_count": 60,
     "metadata": {},
     "output_type": "execute_result"
    }
   ],
   "source": [
    "# Check a sample\n",
    "df_wri_hdi.head()"
   ]
  },
  {
   "cell_type": "code",
   "execution_count": 61,
   "id": "163548eb",
   "metadata": {
    "scrolled": true
   },
   "outputs": [
    {
     "data": {
      "text/plain": [
       "Country                        0\n",
       "ISO_a3                         0\n",
       "Year                           0\n",
       "WRI                            0\n",
       "Exposure                       0\n",
       "Vulnerability                  0\n",
       "Susceptibility                 0\n",
       "Lack of Coping Capacities      0\n",
       "Lack of Adaptive Capacities    0\n",
       "WRI Category                   0\n",
       "Exposure Category              0\n",
       "Vulnerability Category         0\n",
       "Susceptibility Category        0\n",
       "Clusters                       0\n",
       "HDI                            0\n",
       "dtype: int64"
      ]
     },
     "execution_count": 61,
     "metadata": {},
     "output_type": "execute_result"
    }
   ],
   "source": [
    "# Check for missing values\n",
    "df_wri_hdi.isnull().sum()"
   ]
  },
  {
   "cell_type": "markdown",
   "id": "22214fd0",
   "metadata": {},
   "source": [
    "#### Export data"
   ]
  },
  {
   "cell_type": "code",
   "execution_count": 62,
   "id": "88cc2af5",
   "metadata": {},
   "outputs": [
    {
     "data": {
      "text/plain": [
       "(1917, 15)"
      ]
     },
     "execution_count": 62,
     "metadata": {},
     "output_type": "execute_result"
    }
   ],
   "source": [
    "# Confirm the shape of the dataset\n",
    "df_wri_hdi.shape"
   ]
  },
  {
   "cell_type": "code",
   "execution_count": 63,
   "id": "0785baa4",
   "metadata": {},
   "outputs": [],
   "source": [
    "# Export df as \"WRI_HDI_combined.csv\"\n",
    "df_wri_hdi.to_csv(os.path.join(path, '02_Data', 'Prepared_data', 'WRI_HDI_combined.csv'), index = False)"
   ]
  }
 ],
 "metadata": {
  "kernelspec": {
   "display_name": "Python 3 (ipykernel)",
   "language": "python",
   "name": "python3"
  },
  "language_info": {
   "codemirror_mode": {
    "name": "ipython",
    "version": 3
   },
   "file_extension": ".py",
   "mimetype": "text/x-python",
   "name": "python",
   "nbconvert_exporter": "python",
   "pygments_lexer": "ipython3",
   "version": "3.11.5"
  }
 },
 "nbformat": 4,
 "nbformat_minor": 5
}
